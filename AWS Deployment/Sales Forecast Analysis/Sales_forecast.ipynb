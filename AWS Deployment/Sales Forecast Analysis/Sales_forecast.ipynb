{
 "cells": [
  {
   "cell_type": "code",
   "execution_count": 40,
   "id": "91b04a8d",
   "metadata": {},
   "outputs": [],
   "source": [
    "import pandas as pd\n",
    "import numpy as np\n",
    "from sklearn.model_selection import train_test_split"
   ]
  },
  {
   "cell_type": "code",
   "execution_count": 41,
   "id": "44afafaa",
   "metadata": {},
   "outputs": [],
   "source": [
    "df = pd.read_csv('salesforecast_dataset.csv')"
   ]
  },
  {
   "cell_type": "code",
   "execution_count": null,
   "id": "95f485d5",
   "metadata": {},
   "outputs": [],
   "source": [
    "df['isholiday'] = df['isholiday'].replace({'False':0,'True':1})"
   ]
  },
  {
   "cell_type": "code",
   "execution_count": 24,
   "id": "7f2b6a7e",
   "metadata": {},
   "outputs": [
    {
     "data": {
      "text/html": [
       "<div>\n",
       "<style scoped>\n",
       "    .dataframe tbody tr th:only-of-type {\n",
       "        vertical-align: middle;\n",
       "    }\n",
       "\n",
       "    .dataframe tbody tr th {\n",
       "        vertical-align: top;\n",
       "    }\n",
       "\n",
       "    .dataframe thead th {\n",
       "        text-align: right;\n",
       "    }\n",
       "</style>\n",
       "<table border=\"1\" class=\"dataframe\">\n",
       "  <thead>\n",
       "    <tr style=\"text-align: right;\">\n",
       "      <th></th>\n",
       "      <th>store</th>\n",
       "      <th>temperature</th>\n",
       "      <th>fuel_price</th>\n",
       "      <th>markdown1</th>\n",
       "      <th>markdown2</th>\n",
       "      <th>markdown3</th>\n",
       "      <th>markdown4</th>\n",
       "      <th>markdown5</th>\n",
       "      <th>cpi</th>\n",
       "      <th>unemployment</th>\n",
       "      <th>isholiday</th>\n",
       "      <th>dept</th>\n",
       "      <th>weekly_sales</th>\n",
       "      <th>type</th>\n",
       "      <th>size</th>\n",
       "      <th>month_year</th>\n",
       "      <th>year</th>\n",
       "    </tr>\n",
       "  </thead>\n",
       "  <tbody>\n",
       "    <tr>\n",
       "      <th>0</th>\n",
       "      <td>1</td>\n",
       "      <td>42.31</td>\n",
       "      <td>2.572</td>\n",
       "      <td>0.0</td>\n",
       "      <td>0.0</td>\n",
       "      <td>0.0</td>\n",
       "      <td>0.0</td>\n",
       "      <td>0.0</td>\n",
       "      <td>211.096358</td>\n",
       "      <td>8.106</td>\n",
       "      <td>False</td>\n",
       "      <td>1</td>\n",
       "      <td>24924.50</td>\n",
       "      <td>1</td>\n",
       "      <td>151315</td>\n",
       "      <td>2010-02</td>\n",
       "      <td>2010</td>\n",
       "    </tr>\n",
       "    <tr>\n",
       "      <th>1</th>\n",
       "      <td>1</td>\n",
       "      <td>42.31</td>\n",
       "      <td>2.572</td>\n",
       "      <td>0.0</td>\n",
       "      <td>0.0</td>\n",
       "      <td>0.0</td>\n",
       "      <td>0.0</td>\n",
       "      <td>0.0</td>\n",
       "      <td>211.096358</td>\n",
       "      <td>8.106</td>\n",
       "      <td>False</td>\n",
       "      <td>2</td>\n",
       "      <td>50605.27</td>\n",
       "      <td>1</td>\n",
       "      <td>151315</td>\n",
       "      <td>2010-02</td>\n",
       "      <td>2010</td>\n",
       "    </tr>\n",
       "    <tr>\n",
       "      <th>2</th>\n",
       "      <td>1</td>\n",
       "      <td>42.31</td>\n",
       "      <td>2.572</td>\n",
       "      <td>0.0</td>\n",
       "      <td>0.0</td>\n",
       "      <td>0.0</td>\n",
       "      <td>0.0</td>\n",
       "      <td>0.0</td>\n",
       "      <td>211.096358</td>\n",
       "      <td>8.106</td>\n",
       "      <td>False</td>\n",
       "      <td>3</td>\n",
       "      <td>13740.12</td>\n",
       "      <td>1</td>\n",
       "      <td>151315</td>\n",
       "      <td>2010-02</td>\n",
       "      <td>2010</td>\n",
       "    </tr>\n",
       "    <tr>\n",
       "      <th>3</th>\n",
       "      <td>1</td>\n",
       "      <td>42.31</td>\n",
       "      <td>2.572</td>\n",
       "      <td>0.0</td>\n",
       "      <td>0.0</td>\n",
       "      <td>0.0</td>\n",
       "      <td>0.0</td>\n",
       "      <td>0.0</td>\n",
       "      <td>211.096358</td>\n",
       "      <td>8.106</td>\n",
       "      <td>False</td>\n",
       "      <td>4</td>\n",
       "      <td>39954.04</td>\n",
       "      <td>1</td>\n",
       "      <td>151315</td>\n",
       "      <td>2010-02</td>\n",
       "      <td>2010</td>\n",
       "    </tr>\n",
       "    <tr>\n",
       "      <th>4</th>\n",
       "      <td>1</td>\n",
       "      <td>42.31</td>\n",
       "      <td>2.572</td>\n",
       "      <td>0.0</td>\n",
       "      <td>0.0</td>\n",
       "      <td>0.0</td>\n",
       "      <td>0.0</td>\n",
       "      <td>0.0</td>\n",
       "      <td>211.096358</td>\n",
       "      <td>8.106</td>\n",
       "      <td>False</td>\n",
       "      <td>5</td>\n",
       "      <td>32229.38</td>\n",
       "      <td>1</td>\n",
       "      <td>151315</td>\n",
       "      <td>2010-02</td>\n",
       "      <td>2010</td>\n",
       "    </tr>\n",
       "  </tbody>\n",
       "</table>\n",
       "</div>"
      ],
      "text/plain": [
       "   store  temperature  fuel_price  markdown1  markdown2  markdown3  markdown4  \\\n",
       "0      1        42.31       2.572        0.0        0.0        0.0        0.0   \n",
       "1      1        42.31       2.572        0.0        0.0        0.0        0.0   \n",
       "2      1        42.31       2.572        0.0        0.0        0.0        0.0   \n",
       "3      1        42.31       2.572        0.0        0.0        0.0        0.0   \n",
       "4      1        42.31       2.572        0.0        0.0        0.0        0.0   \n",
       "\n",
       "   markdown5         cpi  unemployment  isholiday  dept  weekly_sales  type  \\\n",
       "0        0.0  211.096358         8.106      False     1      24924.50     1   \n",
       "1        0.0  211.096358         8.106      False     2      50605.27     1   \n",
       "2        0.0  211.096358         8.106      False     3      13740.12     1   \n",
       "3        0.0  211.096358         8.106      False     4      39954.04     1   \n",
       "4        0.0  211.096358         8.106      False     5      32229.38     1   \n",
       "\n",
       "     size month_year  year  \n",
       "0  151315    2010-02  2010  \n",
       "1  151315    2010-02  2010  \n",
       "2  151315    2010-02  2010  \n",
       "3  151315    2010-02  2010  \n",
       "4  151315    2010-02  2010  "
      ]
     },
     "execution_count": 24,
     "metadata": {},
     "output_type": "execute_result"
    }
   ],
   "source": [
    "df.head()"
   ]
  },
  {
   "cell_type": "code",
   "execution_count": 27,
   "id": "0586797e",
   "metadata": {},
   "outputs": [
    {
     "data": {
      "text/plain": [
       "array([0, 1])"
      ]
     },
     "execution_count": 27,
     "metadata": {},
     "output_type": "execute_result"
    }
   ],
   "source": [
    "df.isholiday.unique()"
   ]
  },
  {
   "cell_type": "code",
   "execution_count": 22,
   "id": "23907d9a",
   "metadata": {},
   "outputs": [],
   "source": [
    "df['isholiday'] = df['isholiday'].replace({'False': 0, 'True': 1})"
   ]
  },
  {
   "cell_type": "code",
   "execution_count": 29,
   "id": "f872efa5",
   "metadata": {},
   "outputs": [],
   "source": [
    "# Splitting 'month_year' into 'year' and 'month' columns\n",
    "df[['year', 'month']] = df['month_year'].str.split('-', expand=True)\n",
    "\n",
    "# Convert 'year' and 'month' columns to integers\n",
    "df['year'] = df['year'].astype(int)\n",
    "df['month'] = df['month'].astype(int)"
   ]
  },
  {
   "cell_type": "code",
   "execution_count": 35,
   "id": "9a0f4d57",
   "metadata": {},
   "outputs": [],
   "source": [
    "# Drop the 'month_year' column\n",
    "df.drop(columns=['month_year'], inplace=True)"
   ]
  },
  {
   "cell_type": "code",
   "execution_count": 32,
   "id": "69c97dc1",
   "metadata": {},
   "outputs": [],
   "source": [
    "df['isholiday'] = df['isholiday'].astype(int)"
   ]
  },
  {
   "cell_type": "code",
   "execution_count": 36,
   "id": "02a2fa0d",
   "metadata": {},
   "outputs": [],
   "source": [
    "x=df.drop([\"weekly_sales\",\"fuel_price\",\"markdown1\",\"markdown2\",\"markdown3\",\"markdown4\",\"markdown5\"],axis=1)\n",
    "y=df[\"weekly_sales\"]"
   ]
  },
  {
   "cell_type": "code",
   "execution_count": 38,
   "id": "9c8d0e40",
   "metadata": {},
   "outputs": [],
   "source": [
    "x_new = np.array(x).astype('float32')\n",
    "y_new = np.array(y).astype('float32')"
   ]
  },
  {
   "cell_type": "code",
   "execution_count": 63,
   "id": "255994c3",
   "metadata": {},
   "outputs": [],
   "source": [
    "x_train,x_test,y_train,y_test=train_test_split(x_new,y_new,test_size=0.25, random_state=42)"
   ]
  },
  {
   "cell_type": "code",
   "execution_count": null,
   "id": "7e5edd57",
   "metadata": {},
   "outputs": [],
   "source": [
    "# Sagemaker"
   ]
  },
  {
   "cell_type": "code",
   "execution_count": 43,
   "id": "b565b82a",
   "metadata": {},
   "outputs": [
    {
     "name": "stdout",
     "output_type": "stream",
     "text": [
      "sagemaker.config INFO - Not applying SDK defaults from location: /etc/xdg/sagemaker/config.yaml\n",
      "sagemaker.config INFO - Not applying SDK defaults from location: /home/ec2-user/.config/sagemaker/config.yaml\n"
     ]
    }
   ],
   "source": [
    "import sagemaker #how to create engine/session\n",
    "import boto3 # To access AWS service via python"
   ]
  },
  {
   "cell_type": "code",
   "execution_count": 44,
   "id": "ed96538f",
   "metadata": {},
   "outputs": [
    {
     "name": "stdout",
     "output_type": "stream",
     "text": [
      "arn:aws:iam::851725313206:role/service-role/AmazonSageMaker-ExecutionRole-20240729T140061\n"
     ]
    }
   ],
   "source": [
    "#Creating a session based on sagemaker\n",
    "sagemaker_session = sagemaker.Session()\n",
    "role = sagemaker.get_execution_role()\n",
    "print(role)"
   ]
  },
  {
   "cell_type": "code",
   "execution_count": 45,
   "id": "94d8b8e6",
   "metadata": {},
   "outputs": [],
   "source": [
    "bucket = 'salesdatadeployment'\n",
    "prefix = 'ML'"
   ]
  },
  {
   "cell_type": "code",
   "execution_count": 47,
   "id": "d4a084d7",
   "metadata": {},
   "outputs": [
    {
     "data": {
      "text/plain": [
       "(7500, 10)"
      ]
     },
     "execution_count": 47,
     "metadata": {},
     "output_type": "execute_result"
    }
   ],
   "source": [
    "x_train.shape"
   ]
  },
  {
   "cell_type": "code",
   "execution_count": 50,
   "id": "58e8634f",
   "metadata": {},
   "outputs": [
    {
     "data": {
      "text/plain": [
       "(7500,)"
      ]
     },
     "execution_count": 50,
     "metadata": {},
     "output_type": "execute_result"
    }
   ],
   "source": [
    "y_train.shape"
   ]
  },
  {
   "cell_type": "code",
   "execution_count": 51,
   "id": "15d45256",
   "metadata": {},
   "outputs": [
    {
     "data": {
      "text/plain": [
       "(7500,)"
      ]
     },
     "execution_count": 51,
     "metadata": {},
     "output_type": "execute_result"
    }
   ],
   "source": [
    "y_train = x_train[:,0] # Converting one dimentional array\n",
    "y_train.shape"
   ]
  },
  {
   "cell_type": "code",
   "execution_count": 54,
   "id": "32a932f4",
   "metadata": {},
   "outputs": [],
   "source": [
    "import io\n",
    "import sagemaker.amazon.common as smac #Sagemaker common library"
   ]
  },
  {
   "cell_type": "code",
   "execution_count": 57,
   "id": "c027af6d",
   "metadata": {},
   "outputs": [
    {
     "data": {
      "text/plain": [
       "0"
      ]
     },
     "execution_count": 57,
     "metadata": {},
     "output_type": "execute_result"
    }
   ],
   "source": [
    "buffer = io.BytesIO()\n",
    "smac.write_numpy_to_dense_tensor(buffer, x_train, y_train)\n",
    "buffer.seek(0)  # By seek(0) To avoiding external affact"
   ]
  },
  {
   "cell_type": "code",
   "execution_count": 58,
   "id": "d2b45735",
   "metadata": {},
   "outputs": [],
   "source": [
    "import os\n",
    "key = 'train_data'\n",
    "boto3.resource('s3').Bucket(bucket).Object(os.path.join(prefix, key)).upload_fileobj(buffer)"
   ]
  },
  {
   "cell_type": "code",
   "execution_count": 60,
   "id": "f8d874d4",
   "metadata": {},
   "outputs": [
    {
     "name": "stdout",
     "output_type": "stream",
     "text": [
      "s3://salesdatadeployment/ML/train_data\n"
     ]
    }
   ],
   "source": [
    "s3_train_data = 's3://{}/{}/{}'.format(bucket, prefix,key)\n",
    "print(s3_train_data)"
   ]
  },
  {
   "cell_type": "code",
   "execution_count": 66,
   "id": "786a519b",
   "metadata": {},
   "outputs": [
    {
     "data": {
      "text/plain": [
       "array([  1295.94,  10466.42,  40552.37, ...,  18555.99, 120037.4 ,\n",
       "        46039.49], dtype=float32)"
      ]
     },
     "execution_count": 66,
     "metadata": {},
     "output_type": "execute_result"
    }
   ],
   "source": [
    "y_test"
   ]
  },
  {
   "cell_type": "code",
   "execution_count": 67,
   "id": "9ee55f66",
   "metadata": {},
   "outputs": [
    {
     "data": {
      "text/plain": [
       "(2500,)"
      ]
     },
     "execution_count": 67,
     "metadata": {},
     "output_type": "execute_result"
    }
   ],
   "source": [
    "y_test.shape"
   ]
  },
  {
   "cell_type": "code",
   "execution_count": 73,
   "id": "67eb606e",
   "metadata": {},
   "outputs": [
    {
     "data": {
      "text/plain": [
       "0"
      ]
     },
     "execution_count": 73,
     "metadata": {},
     "output_type": "execute_result"
    }
   ],
   "source": [
    "buffer_test = io.BytesIO()\n",
    "smac.write_numpy_to_dense_tensor(buffer_test, x_train, y_train)\n",
    "buffer_test.seek(0)  # By seek(0) To avoiding external affact"
   ]
  },
  {
   "cell_type": "code",
   "execution_count": 74,
   "id": "b468322e",
   "metadata": {},
   "outputs": [],
   "source": [
    "key_test = 'test_data'\n",
    "boto3.resource('s3').Bucket(bucket).Object(os.path.join(prefix, key_test)).upload_fileobj(buffer_test)"
   ]
  },
  {
   "cell_type": "code",
   "execution_count": 70,
   "id": "642ee671",
   "metadata": {},
   "outputs": [
    {
     "name": "stdout",
     "output_type": "stream",
     "text": [
      "s3://salesdatadeployment/ML/output\n"
     ]
    }
   ],
   "source": [
    "output = 's3://{}/{}/output'.format(bucket, prefix)\n",
    "print(output)"
   ]
  },
  {
   "cell_type": "code",
   "execution_count": 79,
   "id": "6e9e75a3",
   "metadata": {},
   "outputs": [
    {
     "name": "stderr",
     "output_type": "stream",
     "text": [
      "The method get_image_uri has been renamed in sagemaker>=2.\n",
      "See: https://sagemaker.readthedocs.io/en/stable/v2.html for details.\n"
     ]
    }
   ],
   "source": [
    "from sagemaker.amazon.amazon_estimator import get_image_uri\n",
    "container = get_image_uri(boto3.Session().region_name,\"linear-learner\")"
   ]
  },
  {
   "cell_type": "code",
   "execution_count": 84,
   "id": "c15e248c",
   "metadata": {},
   "outputs": [
    {
     "name": "stderr",
     "output_type": "stream",
     "text": [
      "WARNING:sagemaker.deprecations:train_instance_count has been renamed in sagemaker>=2.\n",
      "See: https://sagemaker.readthedocs.io/en/stable/v2.html for details.\n",
      "WARNING:sagemaker.deprecations:train_instance_type has been renamed in sagemaker>=2.\n",
      "See: https://sagemaker.readthedocs.io/en/stable/v2.html for details.\n",
      "WARNING:sagemaker.deprecations:train_max_run has been renamed in sagemaker>=2.\n",
      "See: https://sagemaker.readthedocs.io/en/stable/v2.html for details.\n",
      "WARNING:sagemaker.deprecations:train_use_spot_instances has been renamed in sagemaker>=2.\n",
      "See: https://sagemaker.readthedocs.io/en/stable/v2.html for details.\n",
      "WARNING:sagemaker.deprecations:train_max_wait has been renamed in sagemaker>=2.\n",
      "See: https://sagemaker.readthedocs.io/en/stable/v2.html for details.\n"
     ]
    }
   ],
   "source": [
    "model = sagemaker.estimator.Estimator(container,\n",
    "                                      role,\n",
    "                                      train_instance_count=1,\n",
    "                                      train_instance_type='ml.c4.xlarge',\n",
    "                                      output_path=output,\n",
    "                                      sagemaker_session =sagemaker_session, train_use_spot_instances = True,\n",
    "                                      train_max_run = 300,\n",
    "                                      train_max_wait = 600)"
   ]
  },
  {
   "cell_type": "code",
   "execution_count": 88,
   "id": "dde19c73",
   "metadata": {},
   "outputs": [],
   "source": [
    "model.set_hyperparameters(feature_dim = 10,\n",
    "                          predictor_type='regressor',\n",
    "                          mini_batch_size = 100,\n",
    "                          epochs = 5,\n",
    "                          num_models = 32,\n",
    "                          loss = 'absolute_loss')"
   ]
  },
  {
   "cell_type": "code",
   "execution_count": 89,
   "id": "b9fe60a1",
   "metadata": {},
   "outputs": [
    {
     "name": "stderr",
     "output_type": "stream",
     "text": [
      "INFO:sagemaker:Creating training-job with name: linear-learner-2024-07-29-14-45-18-966\n"
     ]
    },
    {
     "name": "stdout",
     "output_type": "stream",
     "text": [
      "2024-07-29 14:45:19 Starting - Starting the training job......\n",
      "2024-07-29 14:46:14 Downloading - Downloading input data...\n",
      "2024-07-29 14:46:39 Downloading - Downloading the training image.........\n",
      "2024-07-29 14:48:10 Training - Training image download completed. Training in progress..\u001b[34mDocker entrypoint called with argument(s): train\u001b[0m\n",
      "\u001b[34mRunning default environment configuration script\u001b[0m\n",
      "\u001b[34m[07/29/2024 14:48:18 INFO 140594514720576] Reading default configuration from /opt/amazon/lib/python3.8/site-packages/algorithm/resources/default-input.json: {'mini_batch_size': '1000', 'epochs': '15', 'feature_dim': 'auto', 'use_bias': 'true', 'binary_classifier_model_selection_criteria': 'accuracy', 'f_beta': '1.0', 'target_recall': '0.8', 'target_precision': '0.8', 'num_models': 'auto', 'num_calibration_samples': '10000000', 'init_method': 'uniform', 'init_scale': '0.07', 'init_sigma': '0.01', 'init_bias': '0.0', 'optimizer': 'auto', 'loss': 'auto', 'margin': '1.0', 'quantile': '0.5', 'loss_insensitivity': '0.01', 'huber_delta': '1.0', 'num_classes': '1', 'accuracy_top_k': '3', 'wd': 'auto', 'l1': 'auto', 'momentum': 'auto', 'learning_rate': 'auto', 'beta_1': 'auto', 'beta_2': 'auto', 'bias_lr_mult': 'auto', 'bias_wd_mult': 'auto', 'use_lr_scheduler': 'true', 'lr_scheduler_step': 'auto', 'lr_scheduler_factor': 'auto', 'lr_scheduler_minimum_lr': 'auto', 'positive_example_weight_mult': '1.0', 'balance_multiclass_weights': 'false', 'normalize_data': 'true', 'normalize_label': 'auto', 'unbias_data': 'auto', 'unbias_label': 'auto', 'num_point_for_scaler': '10000', '_kvstore': 'auto', '_num_gpus': 'auto', '_num_kv_servers': 'auto', '_log_level': 'info', '_tuning_objective_metric': '', 'early_stopping_patience': '3', 'early_stopping_tolerance': '0.001', '_enable_profiler': 'false'}\u001b[0m\n",
      "\u001b[34m[07/29/2024 14:48:18 INFO 140594514720576] Merging with provided configuration from /opt/ml/input/config/hyperparameters.json: {'epochs': '5', 'feature_dim': '10', 'loss': 'absolute_loss', 'mini_batch_size': '100', 'num_models': '32', 'predictor_type': 'regressor'}\u001b[0m\n",
      "\u001b[34m[07/29/2024 14:48:18 INFO 140594514720576] Final configuration: {'mini_batch_size': '100', 'epochs': '5', 'feature_dim': '10', 'use_bias': 'true', 'binary_classifier_model_selection_criteria': 'accuracy', 'f_beta': '1.0', 'target_recall': '0.8', 'target_precision': '0.8', 'num_models': '32', 'num_calibration_samples': '10000000', 'init_method': 'uniform', 'init_scale': '0.07', 'init_sigma': '0.01', 'init_bias': '0.0', 'optimizer': 'auto', 'loss': 'absolute_loss', 'margin': '1.0', 'quantile': '0.5', 'loss_insensitivity': '0.01', 'huber_delta': '1.0', 'num_classes': '1', 'accuracy_top_k': '3', 'wd': 'auto', 'l1': 'auto', 'momentum': 'auto', 'learning_rate': 'auto', 'beta_1': 'auto', 'beta_2': 'auto', 'bias_lr_mult': 'auto', 'bias_wd_mult': 'auto', 'use_lr_scheduler': 'true', 'lr_scheduler_step': 'auto', 'lr_scheduler_factor': 'auto', 'lr_scheduler_minimum_lr': 'auto', 'positive_example_weight_mult': '1.0', 'balance_multiclass_weights': 'false', 'normalize_data': 'true', 'normalize_label': 'auto', 'unbias_data': 'auto', 'unbias_label': 'auto', 'num_point_for_scaler': '10000', '_kvstore': 'auto', '_num_gpus': 'auto', '_num_kv_servers': 'auto', '_log_level': 'info', '_tuning_objective_metric': '', 'early_stopping_patience': '3', 'early_stopping_tolerance': '0.001', '_enable_profiler': 'false', 'predictor_type': 'regressor'}\u001b[0m\n",
      "\u001b[34m/opt/amazon/lib/python3.8/site-packages/mxnet/model.py:97: SyntaxWarning: \"is\" with a literal. Did you mean \"==\"?\n",
      "  if num_device is 1 and 'dist' not in kvstore:\u001b[0m\n",
      "\u001b[34m/opt/amazon/lib/python3.8/site-packages/scipy/optimize/_shgo.py:495: SyntaxWarning: \"is\" with a literal. Did you mean \"==\"?\n",
      "  if cons['type'] is 'ineq':\u001b[0m\n",
      "\u001b[34m/opt/amazon/lib/python3.8/site-packages/scipy/optimize/_shgo.py:743: SyntaxWarning: \"is not\" with a literal. Did you mean \"!=\"?\n",
      "  if len(self.X_min) is not 0:\u001b[0m\n",
      "\u001b[34m[07/29/2024 14:48:21 WARNING 140594514720576] Loggers have already been setup.\u001b[0m\n",
      "\u001b[34m[07/29/2024 14:48:21 INFO 140594514720576] Final configuration: {'mini_batch_size': '100', 'epochs': '5', 'feature_dim': '10', 'use_bias': 'true', 'binary_classifier_model_selection_criteria': 'accuracy', 'f_beta': '1.0', 'target_recall': '0.8', 'target_precision': '0.8', 'num_models': '32', 'num_calibration_samples': '10000000', 'init_method': 'uniform', 'init_scale': '0.07', 'init_sigma': '0.01', 'init_bias': '0.0', 'optimizer': 'auto', 'loss': 'absolute_loss', 'margin': '1.0', 'quantile': '0.5', 'loss_insensitivity': '0.01', 'huber_delta': '1.0', 'num_classes': '1', 'accuracy_top_k': '3', 'wd': 'auto', 'l1': 'auto', 'momentum': 'auto', 'learning_rate': 'auto', 'beta_1': 'auto', 'beta_2': 'auto', 'bias_lr_mult': 'auto', 'bias_wd_mult': 'auto', 'use_lr_scheduler': 'true', 'lr_scheduler_step': 'auto', 'lr_scheduler_factor': 'auto', 'lr_scheduler_minimum_lr': 'auto', 'positive_example_weight_mult': '1.0', 'balance_multiclass_weights': 'false', 'normalize_data': 'true', 'normalize_label': 'auto', 'unbias_data': 'auto', 'unbias_label': 'auto', 'num_point_for_scaler': '10000', '_kvstore': 'auto', '_num_gpus': 'auto', '_num_kv_servers': 'auto', '_log_level': 'info', '_tuning_objective_metric': '', 'early_stopping_patience': '3', 'early_stopping_tolerance': '0.001', '_enable_profiler': 'false', 'predictor_type': 'regressor'}\u001b[0m\n",
      "\u001b[34m[07/29/2024 14:48:21 WARNING 140594514720576] Loggers have already been setup.\u001b[0m\n",
      "\u001b[34mProcess 7 is a worker.\u001b[0m\n",
      "\u001b[34m[07/29/2024 14:48:21 INFO 140594514720576] Using default worker.\u001b[0m\n",
      "\u001b[34m[07/29/2024 14:48:21 INFO 140594514720576] Checkpoint loading and saving are disabled.\u001b[0m\n",
      "\u001b[34m[2024-07-29 14:48:21.179] [tensorio] [info] epoch_stats={\"data_pipeline\": \"/opt/ml/input/data/train\", \"epoch\": 0, \"duration\": 10, \"num_examples\": 1, \"num_bytes\": 8400}\u001b[0m\n",
      "\u001b[34m[07/29/2024 14:48:21 INFO 140594514720576] Create Store: local\u001b[0m\n",
      "\u001b[34m[2024-07-29 14:48:21.470] [tensorio] [info] epoch_stats={\"data_pipeline\": \"/opt/ml/input/data/train\", \"epoch\": 1, \"duration\": 290, \"num_examples\": 75, \"num_bytes\": 630000}\u001b[0m\n",
      "\u001b[34m[07/29/2024 14:48:21 INFO 140594514720576] Scaler algorithm parameters\n",
      " <algorithm.scaler.ScalerAlgorithmStable object at 0x7fde255e8490>\u001b[0m\n",
      "\u001b[34m[07/29/2024 14:48:21 INFO 140594514720576] Scaling model computed with parameters:\n",
      " {'stdev_label': \u001b[0m\n",
      "\u001b[34m[1.]\u001b[0m\n",
      "\u001b[34m<NDArray 1 @cpu(0)>, 'stdev_weight': \u001b[0m\n",
      "\u001b[34m[ 1.         14.3985      4.2381463   0.35332063  0.25760272 30.014845\n",
      "  1.          0.04333885  0.79047364  3.2386415 ]\u001b[0m\n",
      "\u001b[34m<NDArray 10 @cpu(0)>, 'mean_label': \u001b[0m\n",
      "\u001b[34m[1.]\u001b[0m\n",
      "\u001b[34m<NDArray 1 @cpu(0)>, 'mean_weight': \u001b[0m\n",
      "\u001b[34m[1.0000000e+00 6.8330032e+01 2.1583145e+02 7.6339898e+00 7.1466647e-02\n",
      " 4.4366283e+01 1.0000000e+00 1.5131502e+05 2.0109421e+03 6.3910685e+00]\u001b[0m\n",
      "\u001b[34m<NDArray 10 @cpu(0)>}\u001b[0m\n",
      "\u001b[34m/opt/amazon/python3.8/lib/python3.8/subprocess.py:848: RuntimeWarning: line buffering (buffering=1) isn't supported in binary mode, the default buffer size will be used\n",
      "  self.stdout = io.open(c2pread, 'rb', bufsize)\u001b[0m\n",
      "\u001b[34m[07/29/2024 14:48:21 INFO 140594514720576] nvidia-smi: took 0.031 seconds to run.\u001b[0m\n",
      "\u001b[34m[07/29/2024 14:48:21 INFO 140594514720576] nvidia-smi identified 0 GPUs.\u001b[0m\n",
      "\u001b[34m[07/29/2024 14:48:21 INFO 140594514720576] Number of GPUs being used: 0\u001b[0m\n",
      "\u001b[34m#metrics {\"StartTime\": 1722264501.5533311, \"EndTime\": 1722264501.5533614, \"Dimensions\": {\"Algorithm\": \"Linear Learner\", \"Host\": \"algo-1\", \"Operation\": \"training\", \"Meta\": \"init_train_data_iter\"}, \"Metrics\": {\"Total Records Seen\": {\"sum\": 7600.0, \"count\": 1, \"min\": 7600, \"max\": 7600}, \"Total Batches Seen\": {\"sum\": 76.0, \"count\": 1, \"min\": 76, \"max\": 76}, \"Max Records Seen Between Resets\": {\"sum\": 7500.0, \"count\": 1, \"min\": 7500, \"max\": 7500}, \"Max Batches Seen Between Resets\": {\"sum\": 75.0, \"count\": 1, \"min\": 75, \"max\": 75}, \"Reset Count\": {\"sum\": 2.0, \"count\": 1, \"min\": 2, \"max\": 2}, \"Number of Records Since Last Reset\": {\"sum\": 0.0, \"count\": 1, \"min\": 0, \"max\": 0}, \"Number of Batches Since Last Reset\": {\"sum\": 0.0, \"count\": 1, \"min\": 0, \"max\": 0}}}\u001b[0m\n",
      "\u001b[34m[2024-07-29 14:48:22.343] [tensorio] [info] epoch_stats={\"data_pipeline\": \"/opt/ml/input/data/train\", \"epoch\": 4, \"duration\": 790, \"num_examples\": 75, \"num_bytes\": 630000}\u001b[0m\n",
      "\u001b[34m#metrics {\"StartTime\": 1722264502.3438115, \"EndTime\": 1722264502.3438814, \"Dimensions\": {\"Algorithm\": \"Linear Learner\", \"Host\": \"algo-1\", \"Operation\": \"training\", \"epoch\": 0, \"model\": 0}, \"Metrics\": {\"train_absolute_loss_objective\": {\"sum\": 0.008904857524236044, \"count\": 1, \"min\": 0.008904857524236044, \"max\": 0.008904857524236044}}}\u001b[0m\n",
      "\u001b[34m#metrics {\"StartTime\": 1722264502.3439488, \"EndTime\": 1722264502.3439598, \"Dimensions\": {\"Algorithm\": \"Linear Learner\", \"Host\": \"algo-1\", \"Operation\": \"training\", \"epoch\": 0, \"model\": 1}, \"Metrics\": {\"train_absolute_loss_objective\": {\"sum\": 0.011871270486712457, \"count\": 1, \"min\": 0.011871270486712457, \"max\": 0.011871270486712457}}}\u001b[0m\n",
      "\u001b[34m#metrics {\"StartTime\": 1722264502.3439903, \"EndTime\": 1722264502.3439968, \"Dimensions\": {\"Algorithm\": \"Linear Learner\", \"Host\": \"algo-1\", \"Operation\": \"training\", \"epoch\": 0, \"model\": 2}, \"Metrics\": {\"train_absolute_loss_objective\": {\"sum\": 0.012680475481351216, \"count\": 1, \"min\": 0.012680475481351216, \"max\": 0.012680475481351216}}}\u001b[0m\n",
      "\u001b[34m#metrics {\"StartTime\": 1722264502.3440192, \"EndTime\": 1722264502.3440259, \"Dimensions\": {\"Algorithm\": \"Linear Learner\", \"Host\": \"algo-1\", \"Operation\": \"training\", \"epoch\": 0, \"model\": 3}, \"Metrics\": {\"train_absolute_loss_objective\": {\"sum\": 0.013579776642719905, \"count\": 1, \"min\": 0.013579776642719905, \"max\": 0.013579776642719905}}}\u001b[0m\n",
      "\u001b[34m#metrics {\"StartTime\": 1722264502.3440502, \"EndTime\": 1722264502.3440573, \"Dimensions\": {\"Algorithm\": \"Linear Learner\", \"Host\": \"algo-1\", \"Operation\": \"training\", \"epoch\": 0, \"model\": 4}, \"Metrics\": {\"train_absolute_loss_objective\": {\"sum\": 0.13333757278124492, \"count\": 1, \"min\": 0.13333757278124492, \"max\": 0.13333757278124492}}}\u001b[0m\n",
      "\u001b[34m#metrics {\"StartTime\": 1722264502.3440895, \"EndTime\": 1722264502.3440979, \"Dimensions\": {\"Algorithm\": \"Linear Learner\", \"Host\": \"algo-1\", \"Operation\": \"training\", \"epoch\": 0, \"model\": 5}, \"Metrics\": {\"train_absolute_loss_objective\": {\"sum\": 0.1406558677037557, \"count\": 1, \"min\": 0.1406558677037557, \"max\": 0.1406558677037557}}}\u001b[0m\n",
      "\u001b[34m#metrics {\"StartTime\": 1722264502.3441284, \"EndTime\": 1722264502.3441353, \"Dimensions\": {\"Algorithm\": \"Linear Learner\", \"Host\": \"algo-1\", \"Operation\": \"training\", \"epoch\": 0, \"model\": 6}, \"Metrics\": {\"train_absolute_loss_objective\": {\"sum\": 0.16594579000473023, \"count\": 1, \"min\": 0.16594579000473023, \"max\": 0.16594579000473023}}}\u001b[0m\n",
      "\u001b[34m#metrics {\"StartTime\": 1722264502.3441627, \"EndTime\": 1722264502.3441713, \"Dimensions\": {\"Algorithm\": \"Linear Learner\", \"Host\": \"algo-1\", \"Operation\": \"training\", \"epoch\": 0, \"model\": 7}, \"Metrics\": {\"train_absolute_loss_objective\": {\"sum\": 0.1511329519589742, \"count\": 1, \"min\": 0.1511329519589742, \"max\": 0.1511329519589742}}}\u001b[0m\n",
      "\u001b[34m#metrics {\"StartTime\": 1722264502.3442023, \"EndTime\": 1722264502.3442104, \"Dimensions\": {\"Algorithm\": \"Linear Learner\", \"Host\": \"algo-1\", \"Operation\": \"training\", \"epoch\": 0, \"model\": 8}, \"Metrics\": {\"train_absolute_loss_objective\": {\"sum\": 0.017138071302572885, \"count\": 1, \"min\": 0.017138071302572885, \"max\": 0.017138071302572885}}}\u001b[0m\n",
      "\u001b[34m#metrics {\"StartTime\": 1722264502.3442423, \"EndTime\": 1722264502.3442504, \"Dimensions\": {\"Algorithm\": \"Linear Learner\", \"Host\": \"algo-1\", \"Operation\": \"training\", \"epoch\": 0, \"model\": 9}, \"Metrics\": {\"train_absolute_loss_objective\": {\"sum\": 0.015549544654289881, \"count\": 1, \"min\": 0.015549544654289881, \"max\": 0.015549544654289881}}}\u001b[0m\n",
      "\u001b[34m#metrics {\"StartTime\": 1722264502.3442826, \"EndTime\": 1722264502.3442907, \"Dimensions\": {\"Algorithm\": \"Linear Learner\", \"Host\": \"algo-1\", \"Operation\": \"training\", \"epoch\": 0, \"model\": 10}, \"Metrics\": {\"train_absolute_loss_objective\": {\"sum\": 0.011758210696776707, \"count\": 1, \"min\": 0.011758210696776707, \"max\": 0.011758210696776707}}}\u001b[0m\n",
      "\u001b[34m#metrics {\"StartTime\": 1722264502.3443215, \"EndTime\": 1722264502.3443298, \"Dimensions\": {\"Algorithm\": \"Linear Learner\", \"Host\": \"algo-1\", \"Operation\": \"training\", \"epoch\": 0, \"model\": 11}, \"Metrics\": {\"train_absolute_loss_objective\": {\"sum\": 0.009577250194549561, \"count\": 1, \"min\": 0.009577250194549561, \"max\": 0.009577250194549561}}}\u001b[0m\n",
      "\u001b[34m#metrics {\"StartTime\": 1722264502.3443618, \"EndTime\": 1722264502.34437, \"Dimensions\": {\"Algorithm\": \"Linear Learner\", \"Host\": \"algo-1\", \"Operation\": \"training\", \"epoch\": 0, \"model\": 12}, \"Metrics\": {\"train_absolute_loss_objective\": {\"sum\": 0.1637682316462199, \"count\": 1, \"min\": 0.1637682316462199, \"max\": 0.1637682316462199}}}\u001b[0m\n",
      "\u001b[34m#metrics {\"StartTime\": 1722264502.3444014, \"EndTime\": 1722264502.3444104, \"Dimensions\": {\"Algorithm\": \"Linear Learner\", \"Host\": \"algo-1\", \"Operation\": \"training\", \"epoch\": 0, \"model\": 13}, \"Metrics\": {\"train_absolute_loss_objective\": {\"sum\": 0.16014432814915974, \"count\": 1, \"min\": 0.16014432814915974, \"max\": 0.16014432814915974}}}\u001b[0m\n",
      "\u001b[34m#metrics {\"StartTime\": 1722264502.344439, \"EndTime\": 1722264502.3444474, \"Dimensions\": {\"Algorithm\": \"Linear Learner\", \"Host\": \"algo-1\", \"Operation\": \"training\", \"epoch\": 0, \"model\": 14}, \"Metrics\": {\"train_absolute_loss_objective\": {\"sum\": 0.14694796926180523, \"count\": 1, \"min\": 0.14694796926180523, \"max\": 0.14694796926180523}}}\u001b[0m\n",
      "\u001b[34m#metrics {\"StartTime\": 1722264502.3444762, \"EndTime\": 1722264502.3444846, \"Dimensions\": {\"Algorithm\": \"Linear Learner\", \"Host\": \"algo-1\", \"Operation\": \"training\", \"epoch\": 0, \"model\": 15}, \"Metrics\": {\"train_absolute_loss_objective\": {\"sum\": 0.15854271558125813, \"count\": 1, \"min\": 0.15854271558125813, \"max\": 0.15854271558125813}}}\u001b[0m\n",
      "\u001b[34m#metrics {\"StartTime\": 1722264502.3445132, \"EndTime\": 1722264502.3445227, \"Dimensions\": {\"Algorithm\": \"Linear Learner\", \"Host\": \"algo-1\", \"Operation\": \"training\", \"epoch\": 0, \"model\": 16}, \"Metrics\": {\"train_absolute_loss_objective\": {\"sum\": 0.011301374437411625, \"count\": 1, \"min\": 0.011301374437411625, \"max\": 0.011301374437411625}}}\u001b[0m\n",
      "\u001b[34m#metrics {\"StartTime\": 1722264502.3445544, \"EndTime\": 1722264502.3445628, \"Dimensions\": {\"Algorithm\": \"Linear Learner\", \"Host\": \"algo-1\", \"Operation\": \"training\", \"epoch\": 0, \"model\": 17}, \"Metrics\": {\"train_absolute_loss_objective\": {\"sum\": 0.010708099645376206, \"count\": 1, \"min\": 0.010708099645376206, \"max\": 0.010708099645376206}}}\u001b[0m\n",
      "\u001b[34m#metrics {\"StartTime\": 1722264502.3445902, \"EndTime\": 1722264502.3445983, \"Dimensions\": {\"Algorithm\": \"Linear Learner\", \"Host\": \"algo-1\", \"Operation\": \"training\", \"epoch\": 0, \"model\": 18}, \"Metrics\": {\"train_absolute_loss_objective\": {\"sum\": 0.011467566977938016, \"count\": 1, \"min\": 0.011467566977938016, \"max\": 0.011467566977938016}}}\u001b[0m\n",
      "\u001b[34m#metrics {\"StartTime\": 1722264502.3446305, \"EndTime\": 1722264502.3446388, \"Dimensions\": {\"Algorithm\": \"Linear Learner\", \"Host\": \"algo-1\", \"Operation\": \"training\", \"epoch\": 0, \"model\": 19}, \"Metrics\": {\"train_absolute_loss_objective\": {\"sum\": 0.01683676121433576, \"count\": 1, \"min\": 0.01683676121433576, \"max\": 0.01683676121433576}}}\u001b[0m\n",
      "\u001b[34m#metrics {\"StartTime\": 1722264502.3446665, \"EndTime\": 1722264502.344674, \"Dimensions\": {\"Algorithm\": \"Linear Learner\", \"Host\": \"algo-1\", \"Operation\": \"training\", \"epoch\": 0, \"model\": 20}, \"Metrics\": {\"train_absolute_loss_objective\": {\"sum\": 0.17456722237269084, \"count\": 1, \"min\": 0.17456722237269084, \"max\": 0.17456722237269084}}}\u001b[0m\n",
      "\u001b[34m#metrics {\"StartTime\": 1722264502.3447032, \"EndTime\": 1722264502.344711, \"Dimensions\": {\"Algorithm\": \"Linear Learner\", \"Host\": \"algo-1\", \"Operation\": \"training\", \"epoch\": 0, \"model\": 21}, \"Metrics\": {\"train_absolute_loss_objective\": {\"sum\": 0.15048604539235433, \"count\": 1, \"min\": 0.15048604539235433, \"max\": 0.15048604539235433}}}\u001b[0m\n",
      "\u001b[34m#metrics {\"StartTime\": 1722264502.344741, \"EndTime\": 1722264502.3447492, \"Dimensions\": {\"Algorithm\": \"Linear Learner\", \"Host\": \"algo-1\", \"Operation\": \"training\", \"epoch\": 0, \"model\": 22}, \"Metrics\": {\"train_absolute_loss_objective\": {\"sum\": 0.18486601196924846, \"count\": 1, \"min\": 0.18486601196924846, \"max\": 0.18486601196924846}}}\u001b[0m\n",
      "\u001b[34m#metrics {\"StartTime\": 1722264502.344784, \"EndTime\": 1722264502.3447921, \"Dimensions\": {\"Algorithm\": \"Linear Learner\", \"Host\": \"algo-1\", \"Operation\": \"training\", \"epoch\": 0, \"model\": 23}, \"Metrics\": {\"train_absolute_loss_objective\": {\"sum\": 0.1349713154157003, \"count\": 1, \"min\": 0.1349713154157003, \"max\": 0.1349713154157003}}}\u001b[0m\n",
      "\u001b[34m#metrics {\"StartTime\": 1722264502.344821, \"EndTime\": 1722264502.3448286, \"Dimensions\": {\"Algorithm\": \"Linear Learner\", \"Host\": \"algo-1\", \"Operation\": \"training\", \"epoch\": 0, \"model\": 24}, \"Metrics\": {\"train_absolute_loss_objective\": {\"sum\": 0.014729246854782104, \"count\": 1, \"min\": 0.014729246854782104, \"max\": 0.014729246854782104}}}\u001b[0m\n",
      "\u001b[34m#metrics {\"StartTime\": 1722264502.3448603, \"EndTime\": 1722264502.3448691, \"Dimensions\": {\"Algorithm\": \"Linear Learner\", \"Host\": \"algo-1\", \"Operation\": \"training\", \"epoch\": 0, \"model\": 25}, \"Metrics\": {\"train_absolute_loss_objective\": {\"sum\": 0.012862148901820183, \"count\": 1, \"min\": 0.012862148901820183, \"max\": 0.012862148901820183}}}\u001b[0m\n",
      "\u001b[34m#metrics {\"StartTime\": 1722264502.3448985, \"EndTime\": 1722264502.344907, \"Dimensions\": {\"Algorithm\": \"Linear Learner\", \"Host\": \"algo-1\", \"Operation\": \"training\", \"epoch\": 0, \"model\": 26}, \"Metrics\": {\"train_absolute_loss_objective\": {\"sum\": 0.014507745558023453, \"count\": 1, \"min\": 0.014507745558023453, \"max\": 0.014507745558023453}}}\u001b[0m\n",
      "\u001b[34m#metrics {\"StartTime\": 1722264502.3449333, \"EndTime\": 1722264502.3449416, \"Dimensions\": {\"Algorithm\": \"Linear Learner\", \"Host\": \"algo-1\", \"Operation\": \"training\", \"epoch\": 0, \"model\": 27}, \"Metrics\": {\"train_absolute_loss_objective\": {\"sum\": 0.013988315637906392, \"count\": 1, \"min\": 0.013988315637906392, \"max\": 0.013988315637906392}}}\u001b[0m\n",
      "\u001b[34m#metrics {\"StartTime\": 1722264502.3449705, \"EndTime\": 1722264502.344978, \"Dimensions\": {\"Algorithm\": \"Linear Learner\", \"Host\": \"algo-1\", \"Operation\": \"training\", \"epoch\": 0, \"model\": 28}, \"Metrics\": {\"train_absolute_loss_objective\": {\"sum\": 0.15176478417714437, \"count\": 1, \"min\": 0.15176478417714437, \"max\": 0.15176478417714437}}}\u001b[0m\n",
      "\u001b[34m#metrics {\"StartTime\": 1722264502.3450105, \"EndTime\": 1722264502.3450193, \"Dimensions\": {\"Algorithm\": \"Linear Learner\", \"Host\": \"algo-1\", \"Operation\": \"training\", \"epoch\": 0, \"model\": 29}, \"Metrics\": {\"train_absolute_loss_objective\": {\"sum\": 0.14570309789975483, \"count\": 1, \"min\": 0.14570309789975483, \"max\": 0.14570309789975483}}}\u001b[0m\n",
      "\u001b[34m#metrics {\"StartTime\": 1722264502.3450525, \"EndTime\": 1722264502.34506, \"Dimensions\": {\"Algorithm\": \"Linear Learner\", \"Host\": \"algo-1\", \"Operation\": \"training\", \"epoch\": 0, \"model\": 30}, \"Metrics\": {\"train_absolute_loss_objective\": {\"sum\": 0.13870747522513072, \"count\": 1, \"min\": 0.13870747522513072, \"max\": 0.13870747522513072}}}\u001b[0m\n",
      "\u001b[34m#metrics {\"StartTime\": 1722264502.3450894, \"EndTime\": 1722264502.3450975, \"Dimensions\": {\"Algorithm\": \"Linear Learner\", \"Host\": \"algo-1\", \"Operation\": \"training\", \"epoch\": 0, \"model\": 31}, \"Metrics\": {\"train_absolute_loss_objective\": {\"sum\": 0.1534174770275752, \"count\": 1, \"min\": 0.1534174770275752, \"max\": 0.1534174770275752}}}\u001b[0m\n",
      "\u001b[34m[07/29/2024 14:48:22 INFO 140594514720576] #quality_metric: host=algo-1, epoch=0, train absolute_loss_objective <loss>=0.008904857524236044\u001b[0m\n",
      "\u001b[34m[07/29/2024 14:48:22 INFO 140594514720576] #early_stopping_criteria_metric: host=algo-1, epoch=0, criteria=absolute_loss_objective, value=0.008904857524236044\u001b[0m\n",
      "\u001b[34m[07/29/2024 14:48:22 INFO 140594514720576] Epoch 0: Loss improved. Updating best model\u001b[0m\n",
      "\u001b[34m[07/29/2024 14:48:22 INFO 140594514720576] Saving model for epoch: 0\u001b[0m\n",
      "\u001b[34m[07/29/2024 14:48:22 INFO 140594514720576] Saved checkpoint to \"/tmp/tmp8ahhftim/mx-mod-0000.params\"\u001b[0m\n",
      "\u001b[34m[07/29/2024 14:48:22 INFO 140594514720576] #progress_metric: host=algo-1, completed 20.0 % of epochs\u001b[0m\n",
      "\u001b[34m#metrics {\"StartTime\": 1722264501.5535688, \"EndTime\": 1722264502.3522913, \"Dimensions\": {\"Algorithm\": \"Linear Learner\", \"Host\": \"algo-1\", \"Operation\": \"training\", \"epoch\": 0, \"Meta\": \"training_data_iter\"}, \"Metrics\": {\"Total Records Seen\": {\"sum\": 15100.0, \"count\": 1, \"min\": 15100, \"max\": 15100}, \"Total Batches Seen\": {\"sum\": 151.0, \"count\": 1, \"min\": 151, \"max\": 151}, \"Max Records Seen Between Resets\": {\"sum\": 7500.0, \"count\": 1, \"min\": 7500, \"max\": 7500}, \"Max Batches Seen Between Resets\": {\"sum\": 75.0, \"count\": 1, \"min\": 75, \"max\": 75}, \"Reset Count\": {\"sum\": 3.0, \"count\": 1, \"min\": 3, \"max\": 3}, \"Number of Records Since Last Reset\": {\"sum\": 7500.0, \"count\": 1, \"min\": 7500, \"max\": 7500}, \"Number of Batches Since Last Reset\": {\"sum\": 75.0, \"count\": 1, \"min\": 75, \"max\": 75}}}\u001b[0m\n",
      "\u001b[34m[07/29/2024 14:48:22 INFO 140594514720576] #throughput_metric: host=algo-1, train throughput=9388.923991789801 records/second\u001b[0m\n",
      "\u001b[34m[2024-07-29 14:48:23.280] [tensorio] [info] epoch_stats={\"data_pipeline\": \"/opt/ml/input/data/train\", \"epoch\": 6, \"duration\": 927, \"num_examples\": 75, \"num_bytes\": 630000}\u001b[0m\n",
      "\u001b[34m#metrics {\"StartTime\": 1722264503.2805479, \"EndTime\": 1722264503.2806034, \"Dimensions\": {\"Algorithm\": \"Linear Learner\", \"Host\": \"algo-1\", \"Operation\": \"training\", \"epoch\": 1, \"model\": 0}, \"Metrics\": {\"train_absolute_loss_objective\": {\"sum\": 0.0031441602994998295, \"count\": 1, \"min\": 0.0031441602994998295, \"max\": 0.0031441602994998295}}}\u001b[0m\n",
      "\u001b[34m#metrics {\"StartTime\": 1722264503.280668, \"EndTime\": 1722264503.280677, \"Dimensions\": {\"Algorithm\": \"Linear Learner\", \"Host\": \"algo-1\", \"Operation\": \"training\", \"epoch\": 1, \"model\": 1}, \"Metrics\": {\"train_absolute_loss_objective\": {\"sum\": 0.004194792313377062, \"count\": 1, \"min\": 0.004194792313377062, \"max\": 0.004194792313377062}}}\u001b[0m\n",
      "\u001b[34m#metrics {\"StartTime\": 1722264503.2807014, \"EndTime\": 1722264503.2807076, \"Dimensions\": {\"Algorithm\": \"Linear Learner\", \"Host\": \"algo-1\", \"Operation\": \"training\", \"epoch\": 1, \"model\": 2}, \"Metrics\": {\"train_absolute_loss_objective\": {\"sum\": 0.005554621577262878, \"count\": 1, \"min\": 0.005554621577262878, \"max\": 0.005554621577262878}}}\u001b[0m\n",
      "\u001b[34m#metrics {\"StartTime\": 1722264503.280728, \"EndTime\": 1722264503.2807336, \"Dimensions\": {\"Algorithm\": \"Linear Learner\", \"Host\": \"algo-1\", \"Operation\": \"training\", \"epoch\": 1, \"model\": 3}, \"Metrics\": {\"train_absolute_loss_objective\": {\"sum\": 0.00368377654949824, \"count\": 1, \"min\": 0.00368377654949824, \"max\": 0.00368377654949824}}}\u001b[0m\n",
      "\u001b[34m#metrics {\"StartTime\": 1722264503.2807527, \"EndTime\": 1722264503.2807584, \"Dimensions\": {\"Algorithm\": \"Linear Learner\", \"Host\": \"algo-1\", \"Operation\": \"training\", \"epoch\": 1, \"model\": 4}, \"Metrics\": {\"train_absolute_loss_objective\": {\"sum\": 0.051326254447301226, \"count\": 1, \"min\": 0.051326254447301226, \"max\": 0.051326254447301226}}}\u001b[0m\n",
      "\u001b[34m#metrics {\"StartTime\": 1722264503.2807772, \"EndTime\": 1722264503.280783, \"Dimensions\": {\"Algorithm\": \"Linear Learner\", \"Host\": \"algo-1\", \"Operation\": \"training\", \"epoch\": 1, \"model\": 5}, \"Metrics\": {\"train_absolute_loss_objective\": {\"sum\": 0.07111082185109456, \"count\": 1, \"min\": 0.07111082185109456, \"max\": 0.07111082185109456}}}\u001b[0m\n",
      "\u001b[34m#metrics {\"StartTime\": 1722264503.280801, \"EndTime\": 1722264503.2808063, \"Dimensions\": {\"Algorithm\": \"Linear Learner\", \"Host\": \"algo-1\", \"Operation\": \"training\", \"epoch\": 1, \"model\": 6}, \"Metrics\": {\"train_absolute_loss_objective\": {\"sum\": 0.07231208391189575, \"count\": 1, \"min\": 0.07231208391189575, \"max\": 0.07231208391189575}}}\u001b[0m\n",
      "\u001b[34m#metrics {\"StartTime\": 1722264503.2808266, \"EndTime\": 1722264503.280832, \"Dimensions\": {\"Algorithm\": \"Linear Learner\", \"Host\": \"algo-1\", \"Operation\": \"training\", \"epoch\": 1, \"model\": 7}, \"Metrics\": {\"train_absolute_loss_objective\": {\"sum\": 0.07333349501291911, \"count\": 1, \"min\": 0.07333349501291911, \"max\": 0.07333349501291911}}}\u001b[0m\n",
      "\u001b[34m#metrics {\"StartTime\": 1722264503.2808502, \"EndTime\": 1722264503.2808557, \"Dimensions\": {\"Algorithm\": \"Linear Learner\", \"Host\": \"algo-1\", \"Operation\": \"training\", \"epoch\": 1, \"model\": 8}, \"Metrics\": {\"train_absolute_loss_objective\": {\"sum\": 0.004686545427640279, \"count\": 1, \"min\": 0.004686545427640279, \"max\": 0.004686545427640279}}}\u001b[0m\n",
      "\u001b[34m#metrics {\"StartTime\": 1722264503.280874, \"EndTime\": 1722264503.2808795, \"Dimensions\": {\"Algorithm\": \"Linear Learner\", \"Host\": \"algo-1\", \"Operation\": \"training\", \"epoch\": 1, \"model\": 9}, \"Metrics\": {\"train_absolute_loss_objective\": {\"sum\": 0.0053287176152070365, \"count\": 1, \"min\": 0.0053287176152070365, \"max\": 0.0053287176152070365}}}\u001b[0m\n",
      "\u001b[34m#metrics {\"StartTime\": 1722264503.2808998, \"EndTime\": 1722264503.2809052, \"Dimensions\": {\"Algorithm\": \"Linear Learner\", \"Host\": \"algo-1\", \"Operation\": \"training\", \"epoch\": 1, \"model\": 10}, \"Metrics\": {\"train_absolute_loss_objective\": {\"sum\": 0.0034875099738438924, \"count\": 1, \"min\": 0.0034875099738438924, \"max\": 0.0034875099738438924}}}\u001b[0m\n",
      "\u001b[34m#metrics {\"StartTime\": 1722264503.2809238, \"EndTime\": 1722264503.2809293, \"Dimensions\": {\"Algorithm\": \"Linear Learner\", \"Host\": \"algo-1\", \"Operation\": \"training\", \"epoch\": 1, \"model\": 11}, \"Metrics\": {\"train_absolute_loss_objective\": {\"sum\": 0.004727786630392075, \"count\": 1, \"min\": 0.004727786630392075, \"max\": 0.004727786630392075}}}\u001b[0m\n",
      "\u001b[34m#metrics {\"StartTime\": 1722264503.2809474, \"EndTime\": 1722264503.2809527, \"Dimensions\": {\"Algorithm\": \"Linear Learner\", \"Host\": \"algo-1\", \"Operation\": \"training\", \"epoch\": 1, \"model\": 12}, \"Metrics\": {\"train_absolute_loss_objective\": {\"sum\": 0.05650083281199137, \"count\": 1, \"min\": 0.05650083281199137, \"max\": 0.05650083281199137}}}\u001b[0m\n",
      "\u001b[34m#metrics {\"StartTime\": 1722264503.2809727, \"EndTime\": 1722264503.280978, \"Dimensions\": {\"Algorithm\": \"Linear Learner\", \"Host\": \"algo-1\", \"Operation\": \"training\", \"epoch\": 1, \"model\": 13}, \"Metrics\": {\"train_absolute_loss_objective\": {\"sum\": 0.07817553307215373, \"count\": 1, \"min\": 0.07817553307215373, \"max\": 0.07817553307215373}}}\u001b[0m\n",
      "\u001b[34m#metrics {\"StartTime\": 1722264503.280996, \"EndTime\": 1722264503.2810016, \"Dimensions\": {\"Algorithm\": \"Linear Learner\", \"Host\": \"algo-1\", \"Operation\": \"training\", \"epoch\": 1, \"model\": 14}, \"Metrics\": {\"train_absolute_loss_objective\": {\"sum\": 0.0674984014670054, \"count\": 1, \"min\": 0.0674984014670054, \"max\": 0.0674984014670054}}}\u001b[0m\n",
      "\u001b[34m#metrics {\"StartTime\": 1722264503.2810192, \"EndTime\": 1722264503.2810245, \"Dimensions\": {\"Algorithm\": \"Linear Learner\", \"Host\": \"algo-1\", \"Operation\": \"training\", \"epoch\": 1, \"model\": 15}, \"Metrics\": {\"train_absolute_loss_objective\": {\"sum\": 0.062406693649291994, \"count\": 1, \"min\": 0.062406693649291994, \"max\": 0.062406693649291994}}}\u001b[0m\n",
      "\u001b[34m#metrics {\"StartTime\": 1722264503.281043, \"EndTime\": 1722264503.281048, \"Dimensions\": {\"Algorithm\": \"Linear Learner\", \"Host\": \"algo-1\", \"Operation\": \"training\", \"epoch\": 1, \"model\": 16}, \"Metrics\": {\"train_absolute_loss_objective\": {\"sum\": 0.002651025033990542, \"count\": 1, \"min\": 0.002651025033990542, \"max\": 0.002651025033990542}}}\u001b[0m\n",
      "\u001b[34m#metrics {\"StartTime\": 1722264503.2810683, \"EndTime\": 1722264503.2810733, \"Dimensions\": {\"Algorithm\": \"Linear Learner\", \"Host\": \"algo-1\", \"Operation\": \"training\", \"epoch\": 1, \"model\": 17}, \"Metrics\": {\"train_absolute_loss_objective\": {\"sum\": 0.003419305670261383, \"count\": 1, \"min\": 0.003419305670261383, \"max\": 0.003419305670261383}}}\u001b[0m\n",
      "\u001b[34m#metrics {\"StartTime\": 1722264503.2810938, \"EndTime\": 1722264503.2810993, \"Dimensions\": {\"Algorithm\": \"Linear Learner\", \"Host\": \"algo-1\", \"Operation\": \"training\", \"epoch\": 1, \"model\": 18}, \"Metrics\": {\"train_absolute_loss_objective\": {\"sum\": 0.004169313271840413, \"count\": 1, \"min\": 0.004169313271840413, \"max\": 0.004169313271840413}}}\u001b[0m\n",
      "\u001b[34m#metrics {\"StartTime\": 1722264503.2811222, \"EndTime\": 1722264503.281128, \"Dimensions\": {\"Algorithm\": \"Linear Learner\", \"Host\": \"algo-1\", \"Operation\": \"training\", \"epoch\": 1, \"model\": 19}, \"Metrics\": {\"train_absolute_loss_objective\": {\"sum\": 0.004001571226119995, \"count\": 1, \"min\": 0.004001571226119995, \"max\": 0.004001571226119995}}}\u001b[0m\n",
      "\u001b[34m#metrics {\"StartTime\": 1722264503.2811468, \"EndTime\": 1722264503.2811522, \"Dimensions\": {\"Algorithm\": \"Linear Learner\", \"Host\": \"algo-1\", \"Operation\": \"training\", \"epoch\": 1, \"model\": 20}, \"Metrics\": {\"train_absolute_loss_objective\": {\"sum\": 0.05704999200503032, \"count\": 1, \"min\": 0.05704999200503032, \"max\": 0.05704999200503032}}}\u001b[0m\n",
      "\u001b[34m#metrics {\"StartTime\": 1722264503.281191, \"EndTime\": 1722264503.281198, \"Dimensions\": {\"Algorithm\": \"Linear Learner\", \"Host\": \"algo-1\", \"Operation\": \"training\", \"epoch\": 1, \"model\": 21}, \"Metrics\": {\"train_absolute_loss_objective\": {\"sum\": 0.04764611382484436, \"count\": 1, \"min\": 0.04764611382484436, \"max\": 0.04764611382484436}}}\u001b[0m\n",
      "\u001b[34m#metrics {\"StartTime\": 1722264503.2812214, \"EndTime\": 1722264503.2812266, \"Dimensions\": {\"Algorithm\": \"Linear Learner\", \"Host\": \"algo-1\", \"Operation\": \"training\", \"epoch\": 1, \"model\": 22}, \"Metrics\": {\"train_absolute_loss_objective\": {\"sum\": 0.0655274702390035, \"count\": 1, \"min\": 0.0655274702390035, \"max\": 0.0655274702390035}}}\u001b[0m\n",
      "\u001b[34m#metrics {\"StartTime\": 1722264503.2812448, \"EndTime\": 1722264503.2812498, \"Dimensions\": {\"Algorithm\": \"Linear Learner\", \"Host\": \"algo-1\", \"Operation\": \"training\", \"epoch\": 1, \"model\": 23}, \"Metrics\": {\"train_absolute_loss_objective\": {\"sum\": 0.08332250051498413, \"count\": 1, \"min\": 0.08332250051498413, \"max\": 0.08332250051498413}}}\u001b[0m\n",
      "\u001b[34m#metrics {\"StartTime\": 1722264503.2812676, \"EndTime\": 1722264503.2812731, \"Dimensions\": {\"Algorithm\": \"Linear Learner\", \"Host\": \"algo-1\", \"Operation\": \"training\", \"epoch\": 1, \"model\": 24}, \"Metrics\": {\"train_absolute_loss_objective\": {\"sum\": 0.0056438111811876294, \"count\": 1, \"min\": 0.0056438111811876294, \"max\": 0.0056438111811876294}}}\u001b[0m\n",
      "\u001b[34m#metrics {\"StartTime\": 1722264503.281295, \"EndTime\": 1722264503.2813003, \"Dimensions\": {\"Algorithm\": \"Linear Learner\", \"Host\": \"algo-1\", \"Operation\": \"training\", \"epoch\": 1, \"model\": 25}, \"Metrics\": {\"train_absolute_loss_objective\": {\"sum\": 0.0032535035242636998, \"count\": 1, \"min\": 0.0032535035242636998, \"max\": 0.0032535035242636998}}}\u001b[0m\n",
      "\u001b[34m#metrics {\"StartTime\": 1722264503.2813234, \"EndTime\": 1722264503.281329, \"Dimensions\": {\"Algorithm\": \"Linear Learner\", \"Host\": \"algo-1\", \"Operation\": \"training\", \"epoch\": 1, \"model\": 26}, \"Metrics\": {\"train_absolute_loss_objective\": {\"sum\": 0.004166817325353622, \"count\": 1, \"min\": 0.004166817325353622, \"max\": 0.004166817325353622}}}\u001b[0m\n",
      "\u001b[34m#metrics {\"StartTime\": 1722264503.2813475, \"EndTime\": 1722264503.281353, \"Dimensions\": {\"Algorithm\": \"Linear Learner\", \"Host\": \"algo-1\", \"Operation\": \"training\", \"epoch\": 1, \"model\": 27}, \"Metrics\": {\"train_absolute_loss_objective\": {\"sum\": 0.005055231606960297, \"count\": 1, \"min\": 0.005055231606960297, \"max\": 0.005055231606960297}}}\u001b[0m\n",
      "\u001b[34m#metrics {\"StartTime\": 1722264503.2813752, \"EndTime\": 1722264503.281381, \"Dimensions\": {\"Algorithm\": \"Linear Learner\", \"Host\": \"algo-1\", \"Operation\": \"training\", \"epoch\": 1, \"model\": 28}, \"Metrics\": {\"train_absolute_loss_objective\": {\"sum\": 0.08834063326517741, \"count\": 1, \"min\": 0.08834063326517741, \"max\": 0.08834063326517741}}}\u001b[0m\n",
      "\u001b[34m#metrics {\"StartTime\": 1722264503.2814033, \"EndTime\": 1722264503.281409, \"Dimensions\": {\"Algorithm\": \"Linear Learner\", \"Host\": \"algo-1\", \"Operation\": \"training\", \"epoch\": 1, \"model\": 29}, \"Metrics\": {\"train_absolute_loss_objective\": {\"sum\": 0.05454558696746826, \"count\": 1, \"min\": 0.05454558696746826, \"max\": 0.05454558696746826}}}\u001b[0m\n",
      "\u001b[34m#metrics {\"StartTime\": 1722264503.281427, \"EndTime\": 1722264503.2814322, \"Dimensions\": {\"Algorithm\": \"Linear Learner\", \"Host\": \"algo-1\", \"Operation\": \"training\", \"epoch\": 1, \"model\": 30}, \"Metrics\": {\"train_absolute_loss_objective\": {\"sum\": 0.07925849765141806, \"count\": 1, \"min\": 0.07925849765141806, \"max\": 0.07925849765141806}}}\u001b[0m\n",
      "\u001b[34m#metrics {\"StartTime\": 1722264503.28145, \"EndTime\": 1722264503.2814553, \"Dimensions\": {\"Algorithm\": \"Linear Learner\", \"Host\": \"algo-1\", \"Operation\": \"training\", \"epoch\": 1, \"model\": 31}, \"Metrics\": {\"train_absolute_loss_objective\": {\"sum\": 0.0545264528354009, \"count\": 1, \"min\": 0.0545264528354009, \"max\": 0.0545264528354009}}}\u001b[0m\n",
      "\u001b[34m[07/29/2024 14:48:23 INFO 140594514720576] #quality_metric: host=algo-1, epoch=1, train absolute_loss_objective <loss>=0.0031441602994998295\u001b[0m\n",
      "\u001b[34m[07/29/2024 14:48:23 INFO 140594514720576] #early_stopping_criteria_metric: host=algo-1, epoch=1, criteria=absolute_loss_objective, value=0.002651025033990542\u001b[0m\n",
      "\u001b[34m[07/29/2024 14:48:23 INFO 140594514720576] Epoch 1: Loss improved. Updating best model\u001b[0m\n",
      "\u001b[34m[07/29/2024 14:48:23 INFO 140594514720576] Saving model for epoch: 1\u001b[0m\n",
      "\u001b[34m[07/29/2024 14:48:23 INFO 140594514720576] Saved checkpoint to \"/tmp/tmpci922eor/mx-mod-0000.params\"\u001b[0m\n",
      "\u001b[34m[07/29/2024 14:48:23 INFO 140594514720576] #progress_metric: host=algo-1, completed 40.0 % of epochs\u001b[0m\n",
      "\u001b[34m#metrics {\"StartTime\": 1722264502.352518, \"EndTime\": 1722264503.2881346, \"Dimensions\": {\"Algorithm\": \"Linear Learner\", \"Host\": \"algo-1\", \"Operation\": \"training\", \"epoch\": 1, \"Meta\": \"training_data_iter\"}, \"Metrics\": {\"Total Records Seen\": {\"sum\": 22600.0, \"count\": 1, \"min\": 22600, \"max\": 22600}, \"Total Batches Seen\": {\"sum\": 226.0, \"count\": 1, \"min\": 226, \"max\": 226}, \"Max Records Seen Between Resets\": {\"sum\": 7500.0, \"count\": 1, \"min\": 7500, \"max\": 7500}, \"Max Batches Seen Between Resets\": {\"sum\": 75.0, \"count\": 1, \"min\": 75, \"max\": 75}, \"Reset Count\": {\"sum\": 4.0, \"count\": 1, \"min\": 4, \"max\": 4}, \"Number of Records Since Last Reset\": {\"sum\": 7500.0, \"count\": 1, \"min\": 7500, \"max\": 7500}, \"Number of Batches Since Last Reset\": {\"sum\": 75.0, \"count\": 1, \"min\": 75, \"max\": 75}}}\u001b[0m\n",
      "\u001b[34m[07/29/2024 14:48:23 INFO 140594514720576] #throughput_metric: host=algo-1, train throughput=8015.316540651055 records/second\u001b[0m\n",
      "\u001b[34m[2024-07-29 14:48:24.374] [tensorio] [info] epoch_stats={\"data_pipeline\": \"/opt/ml/input/data/train\", \"epoch\": 8, \"duration\": 1086, \"num_examples\": 75, \"num_bytes\": 630000}\u001b[0m\n",
      "\u001b[34m#metrics {\"StartTime\": 1722264504.3746307, \"EndTime\": 1722264504.374694, \"Dimensions\": {\"Algorithm\": \"Linear Learner\", \"Host\": \"algo-1\", \"Operation\": \"training\", \"epoch\": 2, \"model\": 0}, \"Metrics\": {\"train_absolute_loss_objective\": {\"sum\": 0.0027958945920070013, \"count\": 1, \"min\": 0.0027958945920070013, \"max\": 0.0027958945920070013}}}\u001b[0m\n",
      "\u001b[34m#metrics {\"StartTime\": 1722264504.374769, \"EndTime\": 1722264504.3747811, \"Dimensions\": {\"Algorithm\": \"Linear Learner\", \"Host\": \"algo-1\", \"Operation\": \"training\", \"epoch\": 2, \"model\": 1}, \"Metrics\": {\"train_absolute_loss_objective\": {\"sum\": 0.0032592257181803387, \"count\": 1, \"min\": 0.0032592257181803387, \"max\": 0.0032592257181803387}}}\u001b[0m\n",
      "\u001b[34m#metrics {\"StartTime\": 1722264504.3748171, \"EndTime\": 1722264504.3748252, \"Dimensions\": {\"Algorithm\": \"Linear Learner\", \"Host\": \"algo-1\", \"Operation\": \"training\", \"epoch\": 2, \"model\": 2}, \"Metrics\": {\"train_absolute_loss_objective\": {\"sum\": 0.004433574150005976, \"count\": 1, \"min\": 0.004433574150005976, \"max\": 0.004433574150005976}}}\u001b[0m\n",
      "\u001b[34m#metrics {\"StartTime\": 1722264504.3748994, \"EndTime\": 1722264504.374912, \"Dimensions\": {\"Algorithm\": \"Linear Learner\", \"Host\": \"algo-1\", \"Operation\": \"training\", \"epoch\": 2, \"model\": 3}, \"Metrics\": {\"train_absolute_loss_objective\": {\"sum\": 0.00387157501578331, \"count\": 1, \"min\": 0.00387157501578331, \"max\": 0.00387157501578331}}}\u001b[0m\n",
      "\u001b[34m#metrics {\"StartTime\": 1722264504.3749495, \"EndTime\": 1722264504.374958, \"Dimensions\": {\"Algorithm\": \"Linear Learner\", \"Host\": \"algo-1\", \"Operation\": \"training\", \"epoch\": 2, \"model\": 4}, \"Metrics\": {\"train_absolute_loss_objective\": {\"sum\": 0.07280634622573852, \"count\": 1, \"min\": 0.07280634622573852, \"max\": 0.07280634622573852}}}\u001b[0m\n",
      "\u001b[34m#metrics {\"StartTime\": 1722264504.3749924, \"EndTime\": 1722264504.3750007, \"Dimensions\": {\"Algorithm\": \"Linear Learner\", \"Host\": \"algo-1\", \"Operation\": \"training\", \"epoch\": 2, \"model\": 5}, \"Metrics\": {\"train_absolute_loss_objective\": {\"sum\": 0.061917016903559365, \"count\": 1, \"min\": 0.061917016903559365, \"max\": 0.061917016903559365}}}\u001b[0m\n",
      "\u001b[34m#metrics {\"StartTime\": 1722264504.3750348, \"EndTime\": 1722264504.3750443, \"Dimensions\": {\"Algorithm\": \"Linear Learner\", \"Host\": \"algo-1\", \"Operation\": \"training\", \"epoch\": 2, \"model\": 6}, \"Metrics\": {\"train_absolute_loss_objective\": {\"sum\": 0.05378251617749532, \"count\": 1, \"min\": 0.05378251617749532, \"max\": 0.05378251617749532}}}\u001b[0m\n",
      "\u001b[34m#metrics {\"StartTime\": 1722264504.375076, \"EndTime\": 1722264504.3750846, \"Dimensions\": {\"Algorithm\": \"Linear Learner\", \"Host\": \"algo-1\", \"Operation\": \"training\", \"epoch\": 2, \"model\": 7}, \"Metrics\": {\"train_absolute_loss_objective\": {\"sum\": 0.0807154278755188, \"count\": 1, \"min\": 0.0807154278755188, \"max\": 0.0807154278755188}}}\u001b[0m\n",
      "\u001b[34m#metrics {\"StartTime\": 1722264504.3751183, \"EndTime\": 1722264504.3751276, \"Dimensions\": {\"Algorithm\": \"Linear Learner\", \"Host\": \"algo-1\", \"Operation\": \"training\", \"epoch\": 2, \"model\": 8}, \"Metrics\": {\"train_absolute_loss_objective\": {\"sum\": 0.004499461493889491, \"count\": 1, \"min\": 0.004499461493889491, \"max\": 0.004499461493889491}}}\u001b[0m\n",
      "\u001b[34m#metrics {\"StartTime\": 1722264504.3751633, \"EndTime\": 1722264504.3751726, \"Dimensions\": {\"Algorithm\": \"Linear Learner\", \"Host\": \"algo-1\", \"Operation\": \"training\", \"epoch\": 2, \"model\": 9}, \"Metrics\": {\"train_absolute_loss_objective\": {\"sum\": 0.00331923159857591, \"count\": 1, \"min\": 0.00331923159857591, \"max\": 0.00331923159857591}}}\u001b[0m\n",
      "\u001b[34m#metrics {\"StartTime\": 1722264504.3752053, \"EndTime\": 1722264504.3752139, \"Dimensions\": {\"Algorithm\": \"Linear Learner\", \"Host\": \"algo-1\", \"Operation\": \"training\", \"epoch\": 2, \"model\": 10}, \"Metrics\": {\"train_absolute_loss_objective\": {\"sum\": 0.0047031560699144995, \"count\": 1, \"min\": 0.0047031560699144995, \"max\": 0.0047031560699144995}}}\u001b[0m\n",
      "\u001b[34m#metrics {\"StartTime\": 1722264504.3752496, \"EndTime\": 1722264504.3752584, \"Dimensions\": {\"Algorithm\": \"Linear Learner\", \"Host\": \"algo-1\", \"Operation\": \"training\", \"epoch\": 2, \"model\": 11}, \"Metrics\": {\"train_absolute_loss_objective\": {\"sum\": 0.0033777587234973907, \"count\": 1, \"min\": 0.0033777587234973907, \"max\": 0.0033777587234973907}}}\u001b[0m\n",
      "\u001b[34m#metrics {\"StartTime\": 1722264504.375292, \"EndTime\": 1722264504.375301, \"Dimensions\": {\"Algorithm\": \"Linear Learner\", \"Host\": \"algo-1\", \"Operation\": \"training\", \"epoch\": 2, \"model\": 12}, \"Metrics\": {\"train_absolute_loss_objective\": {\"sum\": 0.05533620177904765, \"count\": 1, \"min\": 0.05533620177904765, \"max\": 0.05533620177904765}}}\u001b[0m\n",
      "\u001b[34m#metrics {\"StartTime\": 1722264504.375336, \"EndTime\": 1722264504.375345, \"Dimensions\": {\"Algorithm\": \"Linear Learner\", \"Host\": \"algo-1\", \"Operation\": \"training\", \"epoch\": 2, \"model\": 13}, \"Metrics\": {\"train_absolute_loss_objective\": {\"sum\": 0.05683649266560872, \"count\": 1, \"min\": 0.05683649266560872, \"max\": 0.05683649266560872}}}\u001b[0m\n",
      "\u001b[34m#metrics {\"StartTime\": 1722264504.3753726, \"EndTime\": 1722264504.3753805, \"Dimensions\": {\"Algorithm\": \"Linear Learner\", \"Host\": \"algo-1\", \"Operation\": \"training\", \"epoch\": 2, \"model\": 14}, \"Metrics\": {\"train_absolute_loss_objective\": {\"sum\": 0.05941846415201823, \"count\": 1, \"min\": 0.05941846415201823, \"max\": 0.05941846415201823}}}\u001b[0m\n",
      "\u001b[34m#metrics {\"StartTime\": 1722264504.375408, \"EndTime\": 1722264504.3754165, \"Dimensions\": {\"Algorithm\": \"Linear Learner\", \"Host\": \"algo-1\", \"Operation\": \"training\", \"epoch\": 2, \"model\": 15}, \"Metrics\": {\"train_absolute_loss_objective\": {\"sum\": 0.06389137096405029, \"count\": 1, \"min\": 0.06389137096405029, \"max\": 0.06389137096405029}}}\u001b[0m\n",
      "\u001b[34m#metrics {\"StartTime\": 1722264504.375443, \"EndTime\": 1722264504.3754513, \"Dimensions\": {\"Algorithm\": \"Linear Learner\", \"Host\": \"algo-1\", \"Operation\": \"training\", \"epoch\": 2, \"model\": 16}, \"Metrics\": {\"train_absolute_loss_objective\": {\"sum\": 0.0030186845779418946, \"count\": 1, \"min\": 0.0030186845779418946, \"max\": 0.0030186845779418946}}}\u001b[0m\n",
      "\u001b[34m#metrics {\"StartTime\": 1722264504.3754773, \"EndTime\": 1722264504.3754857, \"Dimensions\": {\"Algorithm\": \"Linear Learner\", \"Host\": \"algo-1\", \"Operation\": \"training\", \"epoch\": 2, \"model\": 17}, \"Metrics\": {\"train_absolute_loss_objective\": {\"sum\": 0.003709074733654658, \"count\": 1, \"min\": 0.003709074733654658, \"max\": 0.003709074733654658}}}\u001b[0m\n",
      "\u001b[34m#metrics {\"StartTime\": 1722264504.3755126, \"EndTime\": 1722264504.3755205, \"Dimensions\": {\"Algorithm\": \"Linear Learner\", \"Host\": \"algo-1\", \"Operation\": \"training\", \"epoch\": 2, \"model\": 18}, \"Metrics\": {\"train_absolute_loss_objective\": {\"sum\": 0.002362784997622172, \"count\": 1, \"min\": 0.002362784997622172, \"max\": 0.002362784997622172}}}\u001b[0m\n",
      "\u001b[34m#metrics {\"StartTime\": 1722264504.375548, \"EndTime\": 1722264504.3755567, \"Dimensions\": {\"Algorithm\": \"Linear Learner\", \"Host\": \"algo-1\", \"Operation\": \"training\", \"epoch\": 2, \"model\": 19}, \"Metrics\": {\"train_absolute_loss_objective\": {\"sum\": 0.004105406806866328, \"count\": 1, \"min\": 0.004105406806866328, \"max\": 0.004105406806866328}}}\u001b[0m\n",
      "\u001b[34m#metrics {\"StartTime\": 1722264504.3755836, \"EndTime\": 1722264504.375592, \"Dimensions\": {\"Algorithm\": \"Linear Learner\", \"Host\": \"algo-1\", \"Operation\": \"training\", \"epoch\": 2, \"model\": 20}, \"Metrics\": {\"train_absolute_loss_objective\": {\"sum\": 0.05591326559384664, \"count\": 1, \"min\": 0.05591326559384664, \"max\": 0.05591326559384664}}}\u001b[0m\n",
      "\u001b[34m#metrics {\"StartTime\": 1722264504.3756192, \"EndTime\": 1722264504.3756278, \"Dimensions\": {\"Algorithm\": \"Linear Learner\", \"Host\": \"algo-1\", \"Operation\": \"training\", \"epoch\": 2, \"model\": 21}, \"Metrics\": {\"train_absolute_loss_objective\": {\"sum\": 0.05893839646975199, \"count\": 1, \"min\": 0.05893839646975199, \"max\": 0.05893839646975199}}}\u001b[0m\n",
      "\u001b[34m#metrics {\"StartTime\": 1722264504.3756552, \"EndTime\": 1722264504.3756633, \"Dimensions\": {\"Algorithm\": \"Linear Learner\", \"Host\": \"algo-1\", \"Operation\": \"training\", \"epoch\": 2, \"model\": 22}, \"Metrics\": {\"train_absolute_loss_objective\": {\"sum\": 0.0654257392247518, \"count\": 1, \"min\": 0.0654257392247518, \"max\": 0.0654257392247518}}}\u001b[0m\n",
      "\u001b[34m#metrics {\"StartTime\": 1722264504.375691, \"EndTime\": 1722264504.3756993, \"Dimensions\": {\"Algorithm\": \"Linear Learner\", \"Host\": \"algo-1\", \"Operation\": \"training\", \"epoch\": 2, \"model\": 23}, \"Metrics\": {\"train_absolute_loss_objective\": {\"sum\": 0.06886344842910766, \"count\": 1, \"min\": 0.06886344842910766, \"max\": 0.06886344842910766}}}\u001b[0m\n",
      "\u001b[34m#metrics {\"StartTime\": 1722264504.3757343, \"EndTime\": 1722264504.375743, \"Dimensions\": {\"Algorithm\": \"Linear Learner\", \"Host\": \"algo-1\", \"Operation\": \"training\", \"epoch\": 2, \"model\": 24}, \"Metrics\": {\"train_absolute_loss_objective\": {\"sum\": 0.003791727101802826, \"count\": 1, \"min\": 0.003791727101802826, \"max\": 0.003791727101802826}}}\u001b[0m\n",
      "\u001b[34m#metrics {\"StartTime\": 1722264504.375777, \"EndTime\": 1722264504.3757856, \"Dimensions\": {\"Algorithm\": \"Linear Learner\", \"Host\": \"algo-1\", \"Operation\": \"training\", \"epoch\": 2, \"model\": 25}, \"Metrics\": {\"train_absolute_loss_objective\": {\"sum\": 0.009718555570642154, \"count\": 1, \"min\": 0.009718555570642154, \"max\": 0.009718555570642154}}}\u001b[0m\n",
      "\u001b[34m#metrics {\"StartTime\": 1722264504.375819, \"EndTime\": 1722264504.375828, \"Dimensions\": {\"Algorithm\": \"Linear Learner\", \"Host\": \"algo-1\", \"Operation\": \"training\", \"epoch\": 2, \"model\": 26}, \"Metrics\": {\"train_absolute_loss_objective\": {\"sum\": 0.0035215302417675653, \"count\": 1, \"min\": 0.0035215302417675653, \"max\": 0.0035215302417675653}}}\u001b[0m\n",
      "\u001b[34m#metrics {\"StartTime\": 1722264504.375869, \"EndTime\": 1722264504.3758788, \"Dimensions\": {\"Algorithm\": \"Linear Learner\", \"Host\": \"algo-1\", \"Operation\": \"training\", \"epoch\": 2, \"model\": 27}, \"Metrics\": {\"train_absolute_loss_objective\": {\"sum\": 0.003037632996837298, \"count\": 1, \"min\": 0.003037632996837298, \"max\": 0.003037632996837298}}}\u001b[0m\n",
      "\u001b[34m#metrics {\"StartTime\": 1722264504.3759148, \"EndTime\": 1722264504.3759227, \"Dimensions\": {\"Algorithm\": \"Linear Learner\", \"Host\": \"algo-1\", \"Operation\": \"training\", \"epoch\": 2, \"model\": 28}, \"Metrics\": {\"train_absolute_loss_objective\": {\"sum\": 0.08245404097239177, \"count\": 1, \"min\": 0.08245404097239177, \"max\": 0.08245404097239177}}}\u001b[0m\n",
      "\u001b[34m#metrics {\"StartTime\": 1722264504.3759558, \"EndTime\": 1722264504.3759642, \"Dimensions\": {\"Algorithm\": \"Linear Learner\", \"Host\": \"algo-1\", \"Operation\": \"training\", \"epoch\": 2, \"model\": 29}, \"Metrics\": {\"train_absolute_loss_objective\": {\"sum\": 0.05369025967915853, \"count\": 1, \"min\": 0.05369025967915853, \"max\": 0.05369025967915853}}}\u001b[0m\n",
      "\u001b[34m#metrics {\"StartTime\": 1722264504.3759997, \"EndTime\": 1722264504.376008, \"Dimensions\": {\"Algorithm\": \"Linear Learner\", \"Host\": \"algo-1\", \"Operation\": \"training\", \"epoch\": 2, \"model\": 30}, \"Metrics\": {\"train_absolute_loss_objective\": {\"sum\": 0.1297257868607839, \"count\": 1, \"min\": 0.1297257868607839, \"max\": 0.1297257868607839}}}\u001b[0m\n",
      "\u001b[34m#metrics {\"StartTime\": 1722264504.3760407, \"EndTime\": 1722264504.3760488, \"Dimensions\": {\"Algorithm\": \"Linear Learner\", \"Host\": \"algo-1\", \"Operation\": \"training\", \"epoch\": 2, \"model\": 31}, \"Metrics\": {\"train_absolute_loss_objective\": {\"sum\": 0.053586482016245524, \"count\": 1, \"min\": 0.053586482016245524, \"max\": 0.053586482016245524}}}\u001b[0m\n",
      "\u001b[34m[07/29/2024 14:48:24 INFO 140594514720576] #quality_metric: host=algo-1, epoch=2, train absolute_loss_objective <loss>=0.0027958945920070013\u001b[0m\n",
      "\u001b[34m[07/29/2024 14:48:24 INFO 140594514720576] #early_stopping_criteria_metric: host=algo-1, epoch=2, criteria=absolute_loss_objective, value=0.002362784997622172\u001b[0m\n",
      "\u001b[34m[07/29/2024 14:48:24 INFO 140594514720576] Epoch 2: Loss improved. Updating best model\u001b[0m\n",
      "\u001b[34m[07/29/2024 14:48:24 INFO 140594514720576] Saving model for epoch: 2\u001b[0m\n",
      "\u001b[34m[07/29/2024 14:48:24 INFO 140594514720576] Saved checkpoint to \"/tmp/tmp4_cd3jji/mx-mod-0000.params\"\u001b[0m\n",
      "\u001b[34m[07/29/2024 14:48:24 INFO 140594514720576] #progress_metric: host=algo-1, completed 60.0 % of epochs\u001b[0m\n",
      "\u001b[34m#metrics {\"StartTime\": 1722264503.2883232, \"EndTime\": 1722264504.3854916, \"Dimensions\": {\"Algorithm\": \"Linear Learner\", \"Host\": \"algo-1\", \"Operation\": \"training\", \"epoch\": 2, \"Meta\": \"training_data_iter\"}, \"Metrics\": {\"Total Records Seen\": {\"sum\": 30100.0, \"count\": 1, \"min\": 30100, \"max\": 30100}, \"Total Batches Seen\": {\"sum\": 301.0, \"count\": 1, \"min\": 301, \"max\": 301}, \"Max Records Seen Between Resets\": {\"sum\": 7500.0, \"count\": 1, \"min\": 7500, \"max\": 7500}, \"Max Batches Seen Between Resets\": {\"sum\": 75.0, \"count\": 1, \"min\": 75, \"max\": 75}, \"Reset Count\": {\"sum\": 5.0, \"count\": 1, \"min\": 5, \"max\": 5}, \"Number of Records Since Last Reset\": {\"sum\": 7500.0, \"count\": 1, \"min\": 7500, \"max\": 7500}, \"Number of Batches Since Last Reset\": {\"sum\": 75.0, \"count\": 1, \"min\": 75, \"max\": 75}}}\u001b[0m\n",
      "\u001b[34m[07/29/2024 14:48:24 INFO 140594514720576] #throughput_metric: host=algo-1, train throughput=6835.1334508979435 records/second\u001b[0m\n",
      "\u001b[34m[2024-07-29 14:48:25.234] [tensorio] [info] epoch_stats={\"data_pipeline\": \"/opt/ml/input/data/train\", \"epoch\": 10, \"duration\": 848, \"num_examples\": 75, \"num_bytes\": 630000}\u001b[0m\n",
      "\u001b[34m#metrics {\"StartTime\": 1722264505.2343574, \"EndTime\": 1722264505.2344124, \"Dimensions\": {\"Algorithm\": \"Linear Learner\", \"Host\": \"algo-1\", \"Operation\": \"training\", \"epoch\": 3, \"model\": 0}, \"Metrics\": {\"train_absolute_loss_objective\": {\"sum\": 0.0025894041205445925, \"count\": 1, \"min\": 0.0025894041205445925, \"max\": 0.0025894041205445925}}}\u001b[0m\n",
      "\u001b[34m#metrics {\"StartTime\": 1722264505.2344725, \"EndTime\": 1722264505.234484, \"Dimensions\": {\"Algorithm\": \"Linear Learner\", \"Host\": \"algo-1\", \"Operation\": \"training\", \"epoch\": 3, \"model\": 1}, \"Metrics\": {\"train_absolute_loss_objective\": {\"sum\": 0.003953736022114754, \"count\": 1, \"min\": 0.003953736022114754, \"max\": 0.003953736022114754}}}\u001b[0m\n",
      "\u001b[34m#metrics {\"StartTime\": 1722264505.234518, \"EndTime\": 1722264505.2345245, \"Dimensions\": {\"Algorithm\": \"Linear Learner\", \"Host\": \"algo-1\", \"Operation\": \"training\", \"epoch\": 3, \"model\": 2}, \"Metrics\": {\"train_absolute_loss_objective\": {\"sum\": 0.002759970311323802, \"count\": 1, \"min\": 0.002759970311323802, \"max\": 0.002759970311323802}}}\u001b[0m\n",
      "\u001b[34m#metrics {\"StartTime\": 1722264505.2345448, \"EndTime\": 1722264505.2345524, \"Dimensions\": {\"Algorithm\": \"Linear Learner\", \"Host\": \"algo-1\", \"Operation\": \"training\", \"epoch\": 3, \"model\": 3}, \"Metrics\": {\"train_absolute_loss_objective\": {\"sum\": 0.0030815881580114365, \"count\": 1, \"min\": 0.0030815881580114365, \"max\": 0.0030815881580114365}}}\u001b[0m\n",
      "\u001b[34m#metrics {\"StartTime\": 1722264505.2345822, \"EndTime\": 1722264505.23459, \"Dimensions\": {\"Algorithm\": \"Linear Learner\", \"Host\": \"algo-1\", \"Operation\": \"training\", \"epoch\": 3, \"model\": 4}, \"Metrics\": {\"train_absolute_loss_objective\": {\"sum\": 0.054284364446004235, \"count\": 1, \"min\": 0.054284364446004235, \"max\": 0.054284364446004235}}}\u001b[0m\n",
      "\u001b[34m#metrics {\"StartTime\": 1722264505.2346187, \"EndTime\": 1722264505.2346258, \"Dimensions\": {\"Algorithm\": \"Linear Learner\", \"Host\": \"algo-1\", \"Operation\": \"training\", \"epoch\": 3, \"model\": 5}, \"Metrics\": {\"train_absolute_loss_objective\": {\"sum\": 0.06221048002243042, \"count\": 1, \"min\": 0.06221048002243042, \"max\": 0.06221048002243042}}}\u001b[0m\n",
      "\u001b[34m#metrics {\"StartTime\": 1722264505.234654, \"EndTime\": 1722264505.2346628, \"Dimensions\": {\"Algorithm\": \"Linear Learner\", \"Host\": \"algo-1\", \"Operation\": \"training\", \"epoch\": 3, \"model\": 6}, \"Metrics\": {\"train_absolute_loss_objective\": {\"sum\": 0.046022635714213056, \"count\": 1, \"min\": 0.046022635714213056, \"max\": 0.046022635714213056}}}\u001b[0m\n",
      "\u001b[34m#metrics {\"StartTime\": 1722264505.2346892, \"EndTime\": 1722264505.2346978, \"Dimensions\": {\"Algorithm\": \"Linear Learner\", \"Host\": \"algo-1\", \"Operation\": \"training\", \"epoch\": 3, \"model\": 7}, \"Metrics\": {\"train_absolute_loss_objective\": {\"sum\": 0.06447850637435913, \"count\": 1, \"min\": 0.06447850637435913, \"max\": 0.06447850637435913}}}\u001b[0m\n",
      "\u001b[34m#metrics {\"StartTime\": 1722264505.2347276, \"EndTime\": 1722264505.2347357, \"Dimensions\": {\"Algorithm\": \"Linear Learner\", \"Host\": \"algo-1\", \"Operation\": \"training\", \"epoch\": 3, \"model\": 8}, \"Metrics\": {\"train_absolute_loss_objective\": {\"sum\": 0.0024658819139003756, \"count\": 1, \"min\": 0.0024658819139003756, \"max\": 0.0024658819139003756}}}\u001b[0m\n",
      "\u001b[34m#metrics {\"StartTime\": 1722264505.2347658, \"EndTime\": 1722264505.2347753, \"Dimensions\": {\"Algorithm\": \"Linear Learner\", \"Host\": \"algo-1\", \"Operation\": \"training\", \"epoch\": 3, \"model\": 9}, \"Metrics\": {\"train_absolute_loss_objective\": {\"sum\": 0.003850723738471667, \"count\": 1, \"min\": 0.003850723738471667, \"max\": 0.003850723738471667}}}\u001b[0m\n",
      "\u001b[34m#metrics {\"StartTime\": 1722264505.2348003, \"EndTime\": 1722264505.2348092, \"Dimensions\": {\"Algorithm\": \"Linear Learner\", \"Host\": \"algo-1\", \"Operation\": \"training\", \"epoch\": 3, \"model\": 10}, \"Metrics\": {\"train_absolute_loss_objective\": {\"sum\": 0.0029394934912522633, \"count\": 1, \"min\": 0.0029394934912522633, \"max\": 0.0029394934912522633}}}\u001b[0m\n",
      "\u001b[34m#metrics {\"StartTime\": 1722264505.2348313, \"EndTime\": 1722264505.2348394, \"Dimensions\": {\"Algorithm\": \"Linear Learner\", \"Host\": \"algo-1\", \"Operation\": \"training\", \"epoch\": 3, \"model\": 11}, \"Metrics\": {\"train_absolute_loss_objective\": {\"sum\": 0.003925605582197508, \"count\": 1, \"min\": 0.003925605582197508, \"max\": 0.003925605582197508}}}\u001b[0m\n",
      "\u001b[34m#metrics {\"StartTime\": 1722264505.2348695, \"EndTime\": 1722264505.234878, \"Dimensions\": {\"Algorithm\": \"Linear Learner\", \"Host\": \"algo-1\", \"Operation\": \"training\", \"epoch\": 3, \"model\": 12}, \"Metrics\": {\"train_absolute_loss_objective\": {\"sum\": 0.05885797890027364, \"count\": 1, \"min\": 0.05885797890027364, \"max\": 0.05885797890027364}}}\u001b[0m\n",
      "\u001b[34m#metrics {\"StartTime\": 1722264505.2349107, \"EndTime\": 1722264505.23492, \"Dimensions\": {\"Algorithm\": \"Linear Learner\", \"Host\": \"algo-1\", \"Operation\": \"training\", \"epoch\": 3, \"model\": 13}, \"Metrics\": {\"train_absolute_loss_objective\": {\"sum\": 0.05662763425509135, \"count\": 1, \"min\": 0.05662763425509135, \"max\": 0.05662763425509135}}}\u001b[0m\n",
      "\u001b[34m#metrics {\"StartTime\": 1722264505.2349432, \"EndTime\": 1722264505.2349513, \"Dimensions\": {\"Algorithm\": \"Linear Learner\", \"Host\": \"algo-1\", \"Operation\": \"training\", \"epoch\": 3, \"model\": 14}, \"Metrics\": {\"train_absolute_loss_objective\": {\"sum\": 0.05234130671819051, \"count\": 1, \"min\": 0.05234130671819051, \"max\": 0.05234130671819051}}}\u001b[0m\n",
      "\u001b[34m#metrics {\"StartTime\": 1722264505.2349815, \"EndTime\": 1722264505.23499, \"Dimensions\": {\"Algorithm\": \"Linear Learner\", \"Host\": \"algo-1\", \"Operation\": \"training\", \"epoch\": 3, \"model\": 15}, \"Metrics\": {\"train_absolute_loss_objective\": {\"sum\": 0.06759225673675537, \"count\": 1, \"min\": 0.06759225673675537, \"max\": 0.06759225673675537}}}\u001b[0m\n",
      "\u001b[34m#metrics {\"StartTime\": 1722264505.2350178, \"EndTime\": 1722264505.2350261, \"Dimensions\": {\"Algorithm\": \"Linear Learner\", \"Host\": \"algo-1\", \"Operation\": \"training\", \"epoch\": 3, \"model\": 16}, \"Metrics\": {\"train_absolute_loss_objective\": {\"sum\": 0.0031256931632757186, \"count\": 1, \"min\": 0.0031256931632757186, \"max\": 0.0031256931632757186}}}\u001b[0m\n",
      "\u001b[34m#metrics {\"StartTime\": 1722264505.2350504, \"EndTime\": 1722264505.235058, \"Dimensions\": {\"Algorithm\": \"Linear Learner\", \"Host\": \"algo-1\", \"Operation\": \"training\", \"epoch\": 3, \"model\": 17}, \"Metrics\": {\"train_absolute_loss_objective\": {\"sum\": 0.0033829930325349174, \"count\": 1, \"min\": 0.0033829930325349174, \"max\": 0.0033829930325349174}}}\u001b[0m\n",
      "\u001b[34m#metrics {\"StartTime\": 1722264505.2350886, \"EndTime\": 1722264505.2350974, \"Dimensions\": {\"Algorithm\": \"Linear Learner\", \"Host\": \"algo-1\", \"Operation\": \"training\", \"epoch\": 3, \"model\": 18}, \"Metrics\": {\"train_absolute_loss_objective\": {\"sum\": 0.003006546519200007, \"count\": 1, \"min\": 0.003006546519200007, \"max\": 0.003006546519200007}}}\u001b[0m\n",
      "\u001b[34m#metrics {\"StartTime\": 1722264505.23513, \"EndTime\": 1722264505.2351391, \"Dimensions\": {\"Algorithm\": \"Linear Learner\", \"Host\": \"algo-1\", \"Operation\": \"training\", \"epoch\": 3, \"model\": 19}, \"Metrics\": {\"train_absolute_loss_objective\": {\"sum\": 0.0030524242132902147, \"count\": 1, \"min\": 0.0030524242132902147, \"max\": 0.0030524242132902147}}}\u001b[0m\n",
      "\u001b[34m#metrics {\"StartTime\": 1722264505.2351654, \"EndTime\": 1722264505.2351732, \"Dimensions\": {\"Algorithm\": \"Linear Learner\", \"Host\": \"algo-1\", \"Operation\": \"training\", \"epoch\": 3, \"model\": 20}, \"Metrics\": {\"train_absolute_loss_objective\": {\"sum\": 0.046877842505772906, \"count\": 1, \"min\": 0.046877842505772906, \"max\": 0.046877842505772906}}}\u001b[0m\n",
      "\u001b[34m#metrics {\"StartTime\": 1722264505.2352035, \"EndTime\": 1722264505.235212, \"Dimensions\": {\"Algorithm\": \"Linear Learner\", \"Host\": \"algo-1\", \"Operation\": \"training\", \"epoch\": 3, \"model\": 21}, \"Metrics\": {\"train_absolute_loss_objective\": {\"sum\": 0.06057532272338867, \"count\": 1, \"min\": 0.06057532272338867, \"max\": 0.06057532272338867}}}\u001b[0m\n",
      "\u001b[34m#metrics {\"StartTime\": 1722264505.235241, \"EndTime\": 1722264505.23525, \"Dimensions\": {\"Algorithm\": \"Linear Learner\", \"Host\": \"algo-1\", \"Operation\": \"training\", \"epoch\": 3, \"model\": 22}, \"Metrics\": {\"train_absolute_loss_objective\": {\"sum\": 0.0627740361849467, \"count\": 1, \"min\": 0.0627740361849467, \"max\": 0.0627740361849467}}}\u001b[0m\n",
      "\u001b[34m#metrics {\"StartTime\": 1722264505.23528, \"EndTime\": 1722264505.2352884, \"Dimensions\": {\"Algorithm\": \"Linear Learner\", \"Host\": \"algo-1\", \"Operation\": \"training\", \"epoch\": 3, \"model\": 23}, \"Metrics\": {\"train_absolute_loss_objective\": {\"sum\": 0.0639269725004832, \"count\": 1, \"min\": 0.0639269725004832, \"max\": 0.0639269725004832}}}\u001b[0m\n",
      "\u001b[34m#metrics {\"StartTime\": 1722264505.2353125, \"EndTime\": 1722264505.2353206, \"Dimensions\": {\"Algorithm\": \"Linear Learner\", \"Host\": \"algo-1\", \"Operation\": \"training\", \"epoch\": 3, \"model\": 24}, \"Metrics\": {\"train_absolute_loss_objective\": {\"sum\": 0.0028236412689089775, \"count\": 1, \"min\": 0.0028236412689089775, \"max\": 0.0028236412689089775}}}\u001b[0m\n",
      "\u001b[34m#metrics {\"StartTime\": 1722264505.2353458, \"EndTime\": 1722264505.2353537, \"Dimensions\": {\"Algorithm\": \"Linear Learner\", \"Host\": \"algo-1\", \"Operation\": \"training\", \"epoch\": 3, \"model\": 25}, \"Metrics\": {\"train_absolute_loss_objective\": {\"sum\": 0.005782992381850878, \"count\": 1, \"min\": 0.005782992381850878, \"max\": 0.005782992381850878}}}\u001b[0m\n",
      "\u001b[34m#metrics {\"StartTime\": 1722264505.2353783, \"EndTime\": 1722264505.2353854, \"Dimensions\": {\"Algorithm\": \"Linear Learner\", \"Host\": \"algo-1\", \"Operation\": \"training\", \"epoch\": 3, \"model\": 26}, \"Metrics\": {\"train_absolute_loss_objective\": {\"sum\": 0.0024712645719448725, \"count\": 1, \"min\": 0.0024712645719448725, \"max\": 0.0024712645719448725}}}\u001b[0m\n",
      "\u001b[34m#metrics {\"StartTime\": 1722264505.235408, \"EndTime\": 1722264505.2354155, \"Dimensions\": {\"Algorithm\": \"Linear Learner\", \"Host\": \"algo-1\", \"Operation\": \"training\", \"epoch\": 3, \"model\": 27}, \"Metrics\": {\"train_absolute_loss_objective\": {\"sum\": 0.004931414776047071, \"count\": 1, \"min\": 0.004931414776047071, \"max\": 0.004931414776047071}}}\u001b[0m\n",
      "\u001b[34m#metrics {\"StartTime\": 1722264505.2354414, \"EndTime\": 1722264505.2354496, \"Dimensions\": {\"Algorithm\": \"Linear Learner\", \"Host\": \"algo-1\", \"Operation\": \"training\", \"epoch\": 3, \"model\": 28}, \"Metrics\": {\"train_absolute_loss_objective\": {\"sum\": 0.0760750565846761, \"count\": 1, \"min\": 0.0760750565846761, \"max\": 0.0760750565846761}}}\u001b[0m\n",
      "\u001b[34m#metrics {\"StartTime\": 1722264505.2354767, \"EndTime\": 1722264505.2354848, \"Dimensions\": {\"Algorithm\": \"Linear Learner\", \"Host\": \"algo-1\", \"Operation\": \"training\", \"epoch\": 3, \"model\": 29}, \"Metrics\": {\"train_absolute_loss_objective\": {\"sum\": 0.05332600682576497, \"count\": 1, \"min\": 0.05332600682576497, \"max\": 0.05332600682576497}}}\u001b[0m\n",
      "\u001b[34m#metrics {\"StartTime\": 1722264505.2355123, \"EndTime\": 1722264505.2355208, \"Dimensions\": {\"Algorithm\": \"Linear Learner\", \"Host\": \"algo-1\", \"Operation\": \"training\", \"epoch\": 3, \"model\": 30}, \"Metrics\": {\"train_absolute_loss_objective\": {\"sum\": 0.12728792950312295, \"count\": 1, \"min\": 0.12728792950312295, \"max\": 0.12728792950312295}}}\u001b[0m\n",
      "\u001b[34m#metrics {\"StartTime\": 1722264505.2355466, \"EndTime\": 1722264505.235555, \"Dimensions\": {\"Algorithm\": \"Linear Learner\", \"Host\": \"algo-1\", \"Operation\": \"training\", \"epoch\": 3, \"model\": 31}, \"Metrics\": {\"train_absolute_loss_objective\": {\"sum\": 0.053717480850219726, \"count\": 1, \"min\": 0.053717480850219726, \"max\": 0.053717480850219726}}}\u001b[0m\n",
      "\u001b[34m[07/29/2024 14:48:25 INFO 140594514720576] #quality_metric: host=algo-1, epoch=3, train absolute_loss_objective <loss>=0.0025894041205445925\u001b[0m\n",
      "\u001b[34m[07/29/2024 14:48:25 INFO 140594514720576] #early_stopping_criteria_metric: host=algo-1, epoch=3, criteria=absolute_loss_objective, value=0.0024658819139003756\u001b[0m\n",
      "\u001b[34m[07/29/2024 14:48:25 INFO 140594514720576] Saving model for epoch: 3\u001b[0m\n",
      "\u001b[34m[07/29/2024 14:48:25 INFO 140594514720576] Saved checkpoint to \"/tmp/tmpja5_vypy/mx-mod-0000.params\"\u001b[0m\n",
      "\u001b[34m[07/29/2024 14:48:25 INFO 140594514720576] #progress_metric: host=algo-1, completed 80.0 % of epochs\u001b[0m\n",
      "\u001b[34m#metrics {\"StartTime\": 1722264504.3856971, \"EndTime\": 1722264505.2421062, \"Dimensions\": {\"Algorithm\": \"Linear Learner\", \"Host\": \"algo-1\", \"Operation\": \"training\", \"epoch\": 3, \"Meta\": \"training_data_iter\"}, \"Metrics\": {\"Total Records Seen\": {\"sum\": 37600.0, \"count\": 1, \"min\": 37600, \"max\": 37600}, \"Total Batches Seen\": {\"sum\": 376.0, \"count\": 1, \"min\": 376, \"max\": 376}, \"Max Records Seen Between Resets\": {\"sum\": 7500.0, \"count\": 1, \"min\": 7500, \"max\": 7500}, \"Max Batches Seen Between Resets\": {\"sum\": 75.0, \"count\": 1, \"min\": 75, \"max\": 75}, \"Reset Count\": {\"sum\": 6.0, \"count\": 1, \"min\": 6, \"max\": 6}, \"Number of Records Since Last Reset\": {\"sum\": 7500.0, \"count\": 1, \"min\": 7500, \"max\": 7500}, \"Number of Batches Since Last Reset\": {\"sum\": 75.0, \"count\": 1, \"min\": 75, \"max\": 75}}}\u001b[0m\n",
      "\u001b[34m[07/29/2024 14:48:25 INFO 140594514720576] #throughput_metric: host=algo-1, train throughput=8756.495217332122 records/second\u001b[0m\n",
      "\u001b[34m[2024-07-29 14:48:26.092] [tensorio] [info] epoch_stats={\"data_pipeline\": \"/opt/ml/input/data/train\", \"epoch\": 12, \"duration\": 849, \"num_examples\": 75, \"num_bytes\": 630000}\u001b[0m\n",
      "\u001b[34m#metrics {\"StartTime\": 1722264506.0923321, \"EndTime\": 1722264506.0923865, \"Dimensions\": {\"Algorithm\": \"Linear Learner\", \"Host\": \"algo-1\", \"Operation\": \"training\", \"epoch\": 4, \"model\": 0}, \"Metrics\": {\"train_absolute_loss_objective\": {\"sum\": 0.0023794550438721975, \"count\": 1, \"min\": 0.0023794550438721975, \"max\": 0.0023794550438721975}}}\u001b[0m\n",
      "\u001b[34m#metrics {\"StartTime\": 1722264506.092452, \"EndTime\": 1722264506.0924644, \"Dimensions\": {\"Algorithm\": \"Linear Learner\", \"Host\": \"algo-1\", \"Operation\": \"training\", \"epoch\": 4, \"model\": 1}, \"Metrics\": {\"train_absolute_loss_objective\": {\"sum\": 0.0037752810696760814, \"count\": 1, \"min\": 0.0037752810696760814, \"max\": 0.0037752810696760814}}}\u001b[0m\n",
      "\u001b[34m#metrics {\"StartTime\": 1722264506.0924995, \"EndTime\": 1722264506.0925076, \"Dimensions\": {\"Algorithm\": \"Linear Learner\", \"Host\": \"algo-1\", \"Operation\": \"training\", \"epoch\": 4, \"model\": 2}, \"Metrics\": {\"train_absolute_loss_objective\": {\"sum\": 0.002734317300717036, \"count\": 1, \"min\": 0.002734317300717036, \"max\": 0.002734317300717036}}}\u001b[0m\n",
      "\u001b[34m#metrics {\"StartTime\": 1722264506.092538, \"EndTime\": 1722264506.0925474, \"Dimensions\": {\"Algorithm\": \"Linear Learner\", \"Host\": \"algo-1\", \"Operation\": \"training\", \"epoch\": 4, \"model\": 3}, \"Metrics\": {\"train_absolute_loss_objective\": {\"sum\": 0.004139756925900778, \"count\": 1, \"min\": 0.004139756925900778, \"max\": 0.004139756925900778}}}\u001b[0m\n",
      "\u001b[34m#metrics {\"StartTime\": 1722264506.0925753, \"EndTime\": 1722264506.0925844, \"Dimensions\": {\"Algorithm\": \"Linear Learner\", \"Host\": \"algo-1\", \"Operation\": \"training\", \"epoch\": 4, \"model\": 4}, \"Metrics\": {\"train_absolute_loss_objective\": {\"sum\": 0.03764090596834819, \"count\": 1, \"min\": 0.03764090596834819, \"max\": 0.03764090596834819}}}\u001b[0m\n",
      "\u001b[34m#metrics {\"StartTime\": 1722264506.0926106, \"EndTime\": 1722264506.092618, \"Dimensions\": {\"Algorithm\": \"Linear Learner\", \"Host\": \"algo-1\", \"Operation\": \"training\", \"epoch\": 4, \"model\": 5}, \"Metrics\": {\"train_absolute_loss_objective\": {\"sum\": 0.08732418505350749, \"count\": 1, \"min\": 0.08732418505350749, \"max\": 0.08732418505350749}}}\u001b[0m\n",
      "\u001b[34m#metrics {\"StartTime\": 1722264506.0926404, \"EndTime\": 1722264506.092648, \"Dimensions\": {\"Algorithm\": \"Linear Learner\", \"Host\": \"algo-1\", \"Operation\": \"training\", \"epoch\": 4, \"model\": 6}, \"Metrics\": {\"train_absolute_loss_objective\": {\"sum\": 0.06020925334294637, \"count\": 1, \"min\": 0.06020925334294637, \"max\": 0.06020925334294637}}}\u001b[0m\n",
      "\u001b[34m#metrics {\"StartTime\": 1722264506.0926738, \"EndTime\": 1722264506.0926812, \"Dimensions\": {\"Algorithm\": \"Linear Learner\", \"Host\": \"algo-1\", \"Operation\": \"training\", \"epoch\": 4, \"model\": 7}, \"Metrics\": {\"train_absolute_loss_objective\": {\"sum\": 0.09756064074834188, \"count\": 1, \"min\": 0.09756064074834188, \"max\": 0.09756064074834188}}}\u001b[0m\n",
      "\u001b[34m#metrics {\"StartTime\": 1722264506.0927024, \"EndTime\": 1722264506.0927107, \"Dimensions\": {\"Algorithm\": \"Linear Learner\", \"Host\": \"algo-1\", \"Operation\": \"training\", \"epoch\": 4, \"model\": 8}, \"Metrics\": {\"train_absolute_loss_objective\": {\"sum\": 0.001998227087656657, \"count\": 1, \"min\": 0.001998227087656657, \"max\": 0.001998227087656657}}}\u001b[0m\n",
      "\u001b[34m#metrics {\"StartTime\": 1722264506.0927372, \"EndTime\": 1722264506.0927458, \"Dimensions\": {\"Algorithm\": \"Linear Learner\", \"Host\": \"algo-1\", \"Operation\": \"training\", \"epoch\": 4, \"model\": 9}, \"Metrics\": {\"train_absolute_loss_objective\": {\"sum\": 0.005210436081886292, \"count\": 1, \"min\": 0.005210436081886292, \"max\": 0.005210436081886292}}}\u001b[0m\n",
      "\u001b[34m#metrics {\"StartTime\": 1722264506.0927708, \"EndTime\": 1722264506.092778, \"Dimensions\": {\"Algorithm\": \"Linear Learner\", \"Host\": \"algo-1\", \"Operation\": \"training\", \"epoch\": 4, \"model\": 10}, \"Metrics\": {\"train_absolute_loss_objective\": {\"sum\": 0.003073540895183881, \"count\": 1, \"min\": 0.003073540895183881, \"max\": 0.003073540895183881}}}\u001b[0m\n",
      "\u001b[34m#metrics {\"StartTime\": 1722264506.0928016, \"EndTime\": 1722264506.092808, \"Dimensions\": {\"Algorithm\": \"Linear Learner\", \"Host\": \"algo-1\", \"Operation\": \"training\", \"epoch\": 4, \"model\": 11}, \"Metrics\": {\"train_absolute_loss_objective\": {\"sum\": 0.003369642155369123, \"count\": 1, \"min\": 0.003369642155369123, \"max\": 0.003369642155369123}}}\u001b[0m\n",
      "\u001b[34m#metrics {\"StartTime\": 1722264506.0928292, \"EndTime\": 1722264506.0928361, \"Dimensions\": {\"Algorithm\": \"Linear Learner\", \"Host\": \"algo-1\", \"Operation\": \"training\", \"epoch\": 4, \"model\": 12}, \"Metrics\": {\"train_absolute_loss_objective\": {\"sum\": 0.07033324631055196, \"count\": 1, \"min\": 0.07033324631055196, \"max\": 0.07033324631055196}}}\u001b[0m\n",
      "\u001b[34m#metrics {\"StartTime\": 1722264506.0928617, \"EndTime\": 1722264506.092869, \"Dimensions\": {\"Algorithm\": \"Linear Learner\", \"Host\": \"algo-1\", \"Operation\": \"training\", \"epoch\": 4, \"model\": 13}, \"Metrics\": {\"train_absolute_loss_objective\": {\"sum\": 0.06250626486142477, \"count\": 1, \"min\": 0.06250626486142477, \"max\": 0.06250626486142477}}}\u001b[0m\n",
      "\u001b[34m#metrics {\"StartTime\": 1722264506.0928955, \"EndTime\": 1722264506.0929048, \"Dimensions\": {\"Algorithm\": \"Linear Learner\", \"Host\": \"algo-1\", \"Operation\": \"training\", \"epoch\": 4, \"model\": 14}, \"Metrics\": {\"train_absolute_loss_objective\": {\"sum\": 0.06323128414154053, \"count\": 1, \"min\": 0.06323128414154053, \"max\": 0.06323128414154053}}}\u001b[0m\n",
      "\u001b[34m#metrics {\"StartTime\": 1722264506.0929313, \"EndTime\": 1722264506.0929384, \"Dimensions\": {\"Algorithm\": \"Linear Learner\", \"Host\": \"algo-1\", \"Operation\": \"training\", \"epoch\": 4, \"model\": 15}, \"Metrics\": {\"train_absolute_loss_objective\": {\"sum\": 0.07427073850631714, \"count\": 1, \"min\": 0.07427073850631714, \"max\": 0.07427073850631714}}}\u001b[0m\n",
      "\u001b[34m#metrics {\"StartTime\": 1722264506.092965, \"EndTime\": 1722264506.0929728, \"Dimensions\": {\"Algorithm\": \"Linear Learner\", \"Host\": \"algo-1\", \"Operation\": \"training\", \"epoch\": 4, \"model\": 16}, \"Metrics\": {\"train_absolute_loss_objective\": {\"sum\": 0.0031983458866675697, \"count\": 1, \"min\": 0.0031983458866675697, \"max\": 0.0031983458866675697}}}\u001b[0m\n",
      "\u001b[34m#metrics {\"StartTime\": 1722264506.0930018, \"EndTime\": 1722264506.0930102, \"Dimensions\": {\"Algorithm\": \"Linear Learner\", \"Host\": \"algo-1\", \"Operation\": \"training\", \"epoch\": 4, \"model\": 17}, \"Metrics\": {\"train_absolute_loss_objective\": {\"sum\": 0.004686287229259809, \"count\": 1, \"min\": 0.004686287229259809, \"max\": 0.004686287229259809}}}\u001b[0m\n",
      "\u001b[34m#metrics {\"StartTime\": 1722264506.0930395, \"EndTime\": 1722264506.0930483, \"Dimensions\": {\"Algorithm\": \"Linear Learner\", \"Host\": \"algo-1\", \"Operation\": \"training\", \"epoch\": 4, \"model\": 18}, \"Metrics\": {\"train_absolute_loss_objective\": {\"sum\": 0.0024274844189484915, \"count\": 1, \"min\": 0.0024274844189484915, \"max\": 0.0024274844189484915}}}\u001b[0m\n",
      "\u001b[34m#metrics {\"StartTime\": 1722264506.0930767, \"EndTime\": 1722264506.093086, \"Dimensions\": {\"Algorithm\": \"Linear Learner\", \"Host\": \"algo-1\", \"Operation\": \"training\", \"epoch\": 4, \"model\": 19}, \"Metrics\": {\"train_absolute_loss_objective\": {\"sum\": 0.004866660996278127, \"count\": 1, \"min\": 0.004866660996278127, \"max\": 0.004866660996278127}}}\u001b[0m\n",
      "\u001b[34m#metrics {\"StartTime\": 1722264506.093116, \"EndTime\": 1722264506.0931244, \"Dimensions\": {\"Algorithm\": \"Linear Learner\", \"Host\": \"algo-1\", \"Operation\": \"training\", \"epoch\": 4, \"model\": 20}, \"Metrics\": {\"train_absolute_loss_objective\": {\"sum\": 0.06035787943204244, \"count\": 1, \"min\": 0.06035787943204244, \"max\": 0.06035787943204244}}}\u001b[0m\n",
      "\u001b[34m#metrics {\"StartTime\": 1722264506.0931468, \"EndTime\": 1722264506.0931551, \"Dimensions\": {\"Algorithm\": \"Linear Learner\", \"Host\": \"algo-1\", \"Operation\": \"training\", \"epoch\": 4, \"model\": 21}, \"Metrics\": {\"train_absolute_loss_objective\": {\"sum\": 0.06725491329828898, \"count\": 1, \"min\": 0.06725491329828898, \"max\": 0.06725491329828898}}}\u001b[0m\n",
      "\u001b[34m#metrics {\"StartTime\": 1722264506.0932002, \"EndTime\": 1722264506.0932088, \"Dimensions\": {\"Algorithm\": \"Linear Learner\", \"Host\": \"algo-1\", \"Operation\": \"training\", \"epoch\": 4, \"model\": 22}, \"Metrics\": {\"train_absolute_loss_objective\": {\"sum\": 0.052540339454015095, \"count\": 1, \"min\": 0.052540339454015095, \"max\": 0.052540339454015095}}}\u001b[0m\n",
      "\u001b[34m#metrics {\"StartTime\": 1722264506.0932395, \"EndTime\": 1722264506.093248, \"Dimensions\": {\"Algorithm\": \"Linear Learner\", \"Host\": \"algo-1\", \"Operation\": \"training\", \"epoch\": 4, \"model\": 23}, \"Metrics\": {\"train_absolute_loss_objective\": {\"sum\": 0.07351824099222819, \"count\": 1, \"min\": 0.07351824099222819, \"max\": 0.07351824099222819}}}\u001b[0m\n",
      "\u001b[34m#metrics {\"StartTime\": 1722264506.093273, \"EndTime\": 1722264506.0932806, \"Dimensions\": {\"Algorithm\": \"Linear Learner\", \"Host\": \"algo-1\", \"Operation\": \"training\", \"epoch\": 4, \"model\": 24}, \"Metrics\": {\"train_absolute_loss_objective\": {\"sum\": 0.002702053556839625, \"count\": 1, \"min\": 0.002702053556839625, \"max\": 0.002702053556839625}}}\u001b[0m\n",
      "\u001b[34m#metrics {\"StartTime\": 1722264506.0933092, \"EndTime\": 1722264506.093317, \"Dimensions\": {\"Algorithm\": \"Linear Learner\", \"Host\": \"algo-1\", \"Operation\": \"training\", \"epoch\": 4, \"model\": 25}, \"Metrics\": {\"train_absolute_loss_objective\": {\"sum\": 0.002556739158431689, \"count\": 1, \"min\": 0.002556739158431689, \"max\": 0.002556739158431689}}}\u001b[0m\n",
      "\u001b[34m#metrics {\"StartTime\": 1722264506.0933459, \"EndTime\": 1722264506.093354, \"Dimensions\": {\"Algorithm\": \"Linear Learner\", \"Host\": \"algo-1\", \"Operation\": \"training\", \"epoch\": 4, \"model\": 26}, \"Metrics\": {\"train_absolute_loss_objective\": {\"sum\": 0.0029746997485558192, \"count\": 1, \"min\": 0.0029746997485558192, \"max\": 0.0029746997485558192}}}\u001b[0m\n",
      "\u001b[34m#metrics {\"StartTime\": 1722264506.093382, \"EndTime\": 1722264506.0933907, \"Dimensions\": {\"Algorithm\": \"Linear Learner\", \"Host\": \"algo-1\", \"Operation\": \"training\", \"epoch\": 4, \"model\": 27}, \"Metrics\": {\"train_absolute_loss_objective\": {\"sum\": 0.004978305912017822, \"count\": 1, \"min\": 0.004978305912017822, \"max\": 0.004978305912017822}}}\u001b[0m\n",
      "\u001b[34m#metrics {\"StartTime\": 1722264506.093416, \"EndTime\": 1722264506.0934236, \"Dimensions\": {\"Algorithm\": \"Linear Learner\", \"Host\": \"algo-1\", \"Operation\": \"training\", \"epoch\": 4, \"model\": 28}, \"Metrics\": {\"train_absolute_loss_objective\": {\"sum\": 0.07126229820251465, \"count\": 1, \"min\": 0.07126229820251465, \"max\": 0.07126229820251465}}}\u001b[0m\n",
      "\u001b[34m#metrics {\"StartTime\": 1722264506.0934482, \"EndTime\": 1722264506.0934558, \"Dimensions\": {\"Algorithm\": \"Linear Learner\", \"Host\": \"algo-1\", \"Operation\": \"training\", \"epoch\": 4, \"model\": 29}, \"Metrics\": {\"train_absolute_loss_objective\": {\"sum\": 0.05276276378631592, \"count\": 1, \"min\": 0.05276276378631592, \"max\": 0.05276276378631592}}}\u001b[0m\n",
      "\u001b[34m#metrics {\"StartTime\": 1722264506.093484, \"EndTime\": 1722264506.093493, \"Dimensions\": {\"Algorithm\": \"Linear Learner\", \"Host\": \"algo-1\", \"Operation\": \"training\", \"epoch\": 4, \"model\": 30}, \"Metrics\": {\"train_absolute_loss_objective\": {\"sum\": 0.11639632349014283, \"count\": 1, \"min\": 0.11639632349014283, \"max\": 0.11639632349014283}}}\u001b[0m\n",
      "\u001b[34m#metrics {\"StartTime\": 1722264506.0935218, \"EndTime\": 1722264506.0935283, \"Dimensions\": {\"Algorithm\": \"Linear Learner\", \"Host\": \"algo-1\", \"Operation\": \"training\", \"epoch\": 4, \"model\": 31}, \"Metrics\": {\"train_absolute_loss_objective\": {\"sum\": 0.0527875129699707, \"count\": 1, \"min\": 0.0527875129699707, \"max\": 0.0527875129699707}}}\u001b[0m\n",
      "\u001b[34m[07/29/2024 14:48:26 INFO 140594514720576] #quality_metric: host=algo-1, epoch=4, train absolute_loss_objective <loss>=0.0023794550438721975\u001b[0m\n",
      "\u001b[34m[07/29/2024 14:48:26 INFO 140594514720576] #early_stopping_criteria_metric: host=algo-1, epoch=4, criteria=absolute_loss_objective, value=0.001998227087656657\u001b[0m\n",
      "\u001b[34m[07/29/2024 14:48:26 INFO 140594514720576] Epoch 4: Loss improved. Updating best model\u001b[0m\n",
      "\u001b[34m[07/29/2024 14:48:26 INFO 140594514720576] Saving model for epoch: 4\u001b[0m\n",
      "\u001b[34m[07/29/2024 14:48:26 INFO 140594514720576] Saved checkpoint to \"/tmp/tmpsmo8dba2/mx-mod-0000.params\"\u001b[0m\n",
      "\u001b[34m[07/29/2024 14:48:26 INFO 140594514720576] #progress_metric: host=algo-1, completed 100.0 % of epochs\u001b[0m\n",
      "\u001b[34m#metrics {\"StartTime\": 1722264505.242317, \"EndTime\": 1722264506.099969, \"Dimensions\": {\"Algorithm\": \"Linear Learner\", \"Host\": \"algo-1\", \"Operation\": \"training\", \"epoch\": 4, \"Meta\": \"training_data_iter\"}, \"Metrics\": {\"Total Records Seen\": {\"sum\": 45100.0, \"count\": 1, \"min\": 45100, \"max\": 45100}, \"Total Batches Seen\": {\"sum\": 451.0, \"count\": 1, \"min\": 451, \"max\": 451}, \"Max Records Seen Between Resets\": {\"sum\": 7500.0, \"count\": 1, \"min\": 7500, \"max\": 7500}, \"Max Batches Seen Between Resets\": {\"sum\": 75.0, \"count\": 1, \"min\": 75, \"max\": 75}, \"Reset Count\": {\"sum\": 7.0, \"count\": 1, \"min\": 7, \"max\": 7}, \"Number of Records Since Last Reset\": {\"sum\": 7500.0, \"count\": 1, \"min\": 7500, \"max\": 7500}, \"Number of Batches Since Last Reset\": {\"sum\": 75.0, \"count\": 1, \"min\": 75, \"max\": 75}}}\u001b[0m\n",
      "\u001b[34m[07/29/2024 14:48:26 INFO 140594514720576] #throughput_metric: host=algo-1, train throughput=8743.714737907698 records/second\u001b[0m\n",
      "\u001b[34m[07/29/2024 14:48:26 WARNING 140594514720576] wait_for_all_workers will not sync workers since the kv store is not running distributed\u001b[0m\n",
      "\u001b[34m[07/29/2024 14:48:26 WARNING 140594514720576] wait_for_all_workers will not sync workers since the kv store is not running distributed\u001b[0m\n",
      "\u001b[34m[2024-07-29 14:48:26.101] [tensorio] [info] epoch_stats={\"data_pipeline\": \"/opt/ml/input/data/train\", \"epoch\": 14, \"duration\": 0, \"num_examples\": 1, \"num_bytes\": 8400}\u001b[0m\n",
      "\u001b[34m[2024-07-29 14:48:26.179] [tensorio] [info] epoch_stats={\"data_pipeline\": \"/opt/ml/input/data/train\", \"epoch\": 16, \"duration\": 76, \"num_examples\": 75, \"num_bytes\": 630000}\u001b[0m\n",
      "\u001b[34m[07/29/2024 14:48:26 INFO 140594514720576] #train_score (algo-1) : ('absolute_loss_objective', 0.0075625)\u001b[0m\n",
      "\u001b[34m[07/29/2024 14:48:26 INFO 140594514720576] #train_score (algo-1) : ('mse', 0.0001181640625)\u001b[0m\n",
      "\u001b[34m[07/29/2024 14:48:26 INFO 140594514720576] #train_score (algo-1) : ('absolute_loss', 0.0075625)\u001b[0m\n",
      "\u001b[34m[07/29/2024 14:48:26 INFO 140594514720576] #train_score (algo-1) : ('rmse', 0.010870329456828804)\u001b[0m\n",
      "\u001b[34m[07/29/2024 14:48:26 INFO 140594514720576] #train_score (algo-1) : ('r2', 0.0)\u001b[0m\n",
      "\u001b[34m[07/29/2024 14:48:26 INFO 140594514720576] #train_score (algo-1) : ('mae', 0.0075625)\u001b[0m\n",
      "\u001b[34m[07/29/2024 14:48:26 INFO 140594514720576] #quality_metric: host=algo-1, train absolute_loss_objective <loss>=0.0075625\u001b[0m\n",
      "\u001b[34m[07/29/2024 14:48:26 INFO 140594514720576] #quality_metric: host=algo-1, train mse <loss>=0.0001181640625\u001b[0m\n",
      "\u001b[34m[07/29/2024 14:48:26 INFO 140594514720576] #quality_metric: host=algo-1, train absolute_loss <loss>=0.0075625\u001b[0m\n",
      "\u001b[34m[07/29/2024 14:48:26 INFO 140594514720576] #quality_metric: host=algo-1, train rmse <loss>=0.010870329456828804\u001b[0m\n",
      "\u001b[34m[07/29/2024 14:48:26 INFO 140594514720576] #quality_metric: host=algo-1, train r2 <loss>=0.0\u001b[0m\n",
      "\u001b[34m[07/29/2024 14:48:26 INFO 140594514720576] #quality_metric: host=algo-1, train mae <loss>=0.0075625\u001b[0m\n",
      "\u001b[34m[07/29/2024 14:48:26 INFO 140594514720576] Best model found for hyperparameters: {\"optimizer\": \"adam\", \"learning_rate\": 0.005, \"wd\": 0.01, \"l1\": 0.0, \"lr_scheduler_step\": 10, \"lr_scheduler_factor\": 0.99, \"lr_scheduler_minimum_lr\": 1e-05}\u001b[0m\n",
      "\u001b[34m[07/29/2024 14:48:26 INFO 140594514720576] Saved checkpoint to \"/tmp/tmps0insvpk/mx-mod-0000.params\"\u001b[0m\n",
      "\u001b[34m[07/29/2024 14:48:26 INFO 140594514720576] Test data is not provided.\u001b[0m\n",
      "\u001b[34m#metrics {\"StartTime\": 1722264501.1686852, \"EndTime\": 1722264506.1873906, \"Dimensions\": {\"Algorithm\": \"Linear Learner\", \"Host\": \"algo-1\", \"Operation\": \"training\"}, \"Metrics\": {\"initialize.time\": {\"sum\": 383.5258483886719, \"count\": 1, \"min\": 383.5258483886719, \"max\": 383.5258483886719}, \"epochs\": {\"sum\": 5.0, \"count\": 1, \"min\": 5, \"max\": 5}, \"check_early_stopping.time\": {\"sum\": 3.298044204711914, \"count\": 5, \"min\": 0.1647472381591797, \"max\": 0.9436607360839844}, \"update.time\": {\"sum\": 4533.464193344116, \"count\": 5, \"min\": 796.4234352111816, \"max\": 1093.6212539672852}, \"finalize.time\": {\"sum\": 80.76643943786621, \"count\": 1, \"min\": 80.76643943786621, \"max\": 80.76643943786621}, \"setuptime\": {\"sum\": 1.8422603607177734, \"count\": 1, \"min\": 1.8422603607177734, \"max\": 1.8422603607177734}, \"totaltime\": {\"sum\": 5109.666347503662, \"count\": 1, \"min\": 5109.666347503662, \"max\": 5109.666347503662}}}\u001b[0m\n",
      "\n",
      "2024-07-29 14:48:43 Uploading - Uploading generated training model\n",
      "2024-07-29 14:48:43 Completed - Training job completed\n",
      "Training seconds: 149\n",
      "Billable seconds: 63\n",
      "Managed Spot Training savings: 57.7%\n"
     ]
    }
   ],
   "source": [
    "model.fit({'train': s3_train_data})"
   ]
  },
  {
   "cell_type": "code",
   "execution_count": 90,
   "id": "83044895",
   "metadata": {},
   "outputs": [
    {
     "name": "stderr",
     "output_type": "stream",
     "text": [
      "INFO:sagemaker:Creating model with name: linear-learner-2024-07-29-14-50-56-255\n",
      "INFO:sagemaker:Creating endpoint-config with name linear-learner-2024-07-29-14-50-56-255\n",
      "INFO:sagemaker:Creating endpoint with name linear-learner-2024-07-29-14-50-56-255\n"
     ]
    },
    {
     "name": "stdout",
     "output_type": "stream",
     "text": [
      "-------!"
     ]
    }
   ],
   "source": [
    "model_deploy = model.deploy(initial_instance_count=1,\n",
    "                            instance_type = 'ml.m4.xlarge')"
   ]
  },
  {
   "cell_type": "code",
   "execution_count": 95,
   "id": "d045e76b",
   "metadata": {},
   "outputs": [],
   "source": [
    "from sagemaker.serializers import CSVSerializer # i/p\n",
    "from sagemaker.deserializers import JSONDeserializer #o/p\n",
    "model_deploy.content_type='test/csv'\n",
    "model_deploy.serializer = CSVSerializer()\n",
    "model_deploy.deserializer = JSONDeserializer()"
   ]
  },
  {
   "cell_type": "code",
   "execution_count": 97,
   "id": "bf61cf3d",
   "metadata": {},
   "outputs": [
    {
     "data": {
      "text/plain": [
       "array([[1.0000000e+00, 6.9309998e+01, 2.1704536e+02, ..., 1.5131500e+05,\n",
       "        2.0110000e+03, 1.0000000e+01],\n",
       "       [1.0000000e+00, 6.4610001e+01, 2.1579601e+02, ..., 1.5131500e+05,\n",
       "        2.0110000e+03, 5.0000000e+00],\n",
       "       [1.0000000e+00, 8.3360001e+01, 2.1123514e+02, ..., 1.5131500e+05,\n",
       "        2.0100000e+03, 7.0000000e+00],\n",
       "       ...,\n",
       "       [1.0000000e+00, 4.5320000e+01, 2.2042577e+02, ..., 1.5131500e+05,\n",
       "        2.0120000e+03, 2.0000000e+00],\n",
       "       [1.0000000e+00, 4.4549999e+01, 2.1953600e+02, ..., 1.5131500e+05,\n",
       "        2.0110000e+03, 1.2000000e+01],\n",
       "       [1.0000000e+00, 3.8509998e+01, 2.1124217e+02, ..., 1.5131500e+05,\n",
       "        2.0100000e+03, 2.0000000e+00]], dtype=float32)"
      ]
     },
     "execution_count": 97,
     "metadata": {},
     "output_type": "execute_result"
    }
   ],
   "source": [
    "x_test"
   ]
  },
  {
   "cell_type": "code",
   "execution_count": null,
   "id": "f21d8626",
   "metadata": {},
   "outputs": [],
   "source": [
    "result = model_deploy.predict(x_test)"
   ]
  },
  {
   "cell_type": "code",
   "execution_count": null,
   "id": "58dfb80a",
   "metadata": {},
   "outputs": [],
   "source": [
    "result  #Json O/P"
   ]
  },
  {
   "cell_type": "code",
   "execution_count": null,
   "id": "35272b80",
   "metadata": {},
   "outputs": [],
   "source": [
    "prediction = np.array([i['score'] for i in result ['predictions']])"
   ]
  },
  {
   "cell_type": "code",
   "execution_count": null,
   "id": "e4417bef",
   "metadata": {},
   "outputs": [],
   "source": [
    "plt.scatter(x_test, y_test)\n",
    "plt.plot(x_test, prediction)\n",
    "plt.show()"
   ]
  },
  {
   "cell_type": "code",
   "execution_count": 98,
   "id": "ebdfb556",
   "metadata": {},
   "outputs": [
    {
     "name": "stderr",
     "output_type": "stream",
     "text": [
      "INFO:sagemaker:Deleting endpoint configuration with name: linear-learner-2024-07-29-14-50-56-255\n",
      "INFO:sagemaker:Deleting endpoint with name: linear-learner-2024-07-29-14-50-56-255\n"
     ]
    }
   ],
   "source": [
    "model_deploy.delete_endpoint() #To delete the instance used for model."
   ]
  },
  {
   "cell_type": "code",
   "execution_count": null,
   "id": "7ce30919",
   "metadata": {},
   "outputs": [],
   "source": []
  }
 ],
 "metadata": {
  "kernelspec": {
   "display_name": "conda_python3",
   "language": "python",
   "name": "conda_python3"
  },
  "language_info": {
   "codemirror_mode": {
    "name": "ipython",
    "version": 3
   },
   "file_extension": ".py",
   "mimetype": "text/x-python",
   "name": "python",
   "nbconvert_exporter": "python",
   "pygments_lexer": "ipython3",
   "version": "3.10.14"
  }
 },
 "nbformat": 4,
 "nbformat_minor": 5
}
